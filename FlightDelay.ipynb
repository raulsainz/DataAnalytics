{
 "cells": [
  {
   "cell_type": "markdown",
   "metadata": {},
   "source": [
    "# Flight Delay Prediction (Jan 2019)\n",
    "The dataset contains records gathered by the Bureau of Transportation Statistics (BTS)[9] toprovide historical comparisons of monthly on-time reports filed by large US Airlines.  \n",
    "\n",
    "_Only datasetsfor 2019 intentionally selected due to the substantial effect of COVID19 in the aviation industry in2020, it is out of scope of this project to analyze this factor._\n",
    "### Source:Bureau of Transportation Statistics \n",
    "### Number of rows:1,984,933\n",
    "### Dataset features and description:\n",
    "\n",
    "| Variable name               | Description                                                                                            |\n",
    "|-----------------------------|--------------------------------------------------------------------------------------------------------|\n",
    "| Quarter (Time Period)       | Quarter (1-4)                                                                                          |\n",
    "| Month                       | Month                                                                                                  |\n",
    "| DayOfWeek                   | Day of Week  (1 - Monday, 2 -Tuesday, 3 - Wendsday)                                                                                          |\n",
    "| Operating\\_Airline          | Carrier Code                                                                                           |\n",
    "| Origin                      | Origin Airport                                                                                         |\n",
    "| Dest                        | Destination Airport                                                                                    |\n",
    "| DepTime                     | Actual Departure Time (local time: hhmm)                                                               |\n",
    "| DepDelay                    | Difference between scheduled and actual departure time (Minutes)                                       |\n",
    "| DepDel15                    | Departure Delay Indicator (1=Yes)                                                                      |\n",
    "| DepartureDelayGroups        | Departure Delay intervals, every (15 minutes from <-15 to >180)                                        |\n",
    "| TaxiOut                     | Taxi-Out Time (Minutes)                                                                                |\n",
    "| TaxiIn                      | Taxi-In Time (Minutes)                                                                                 |\n",
    "| **ArrDelay (target)**          | **Difference in minutes between scheduled and actual arrival time**. *Early arrivals show negative numbers |\n",
    "| ArrDel15                    | Arrival Delay Indicator, 15 Minutes or More (1=Yes)                                                    |\n",
    "| ArrivalDelayGroups          | Arrival Delay intervals (15-minutes from <-15 to >180)                                                 |\n",
    "| Cancelled                   | Cancelled Flight Indicator (1=Yes)                                                                     |\n",
    "| CancellationCode            | Specifies The Reason For Cancellation                                                                  |\n",
    "| ActualElapsedTime           | Elapsed Time of Flight, in Minutes                                                                     |\n",
    "| AirTime                     | Flight Time, in Minutes                                                                                |\n",
    "| Flights                     | Number of Flights                                                                                      |\n",
    "| Distance                    | Distance between airports (Miles)                                                                      |\n",
    "| DistanceGroup               | Distance FLight Segment, (every 250 Miles)                                                             |\n",
    "| CarrierDelay                | Delay by Carrier (Minutes)                                                                             |\n",
    "| NASDelay                    | Delay by NAS (Minutes)                                                                                 |\n",
    "| SecurityDelay               | Delay by Security (Minutes)                                                                            |\n",
    "| LateAircraftDelay           | Delay by Late Aircraft (in Minutes)                                                                    |\n",
    "| WeatherDelay                | Delay caused by Weather (Minutes)                                                                      |\n"
   ]
  },
  {
   "cell_type": "code",
   "execution_count": null,
   "metadata": {},
   "outputs": [],
   "source": [
    "#Import basic libraries\n",
    "import pandas as pd\n",
    "import numpy as np\n",
    "import matplotlib.pyplot as plt "
   ]
  },
  {
   "cell_type": "code",
   "execution_count": null,
   "metadata": {},
   "outputs": [],
   "source": [
    "#Setup pandas display parameters\n",
    "pd.options.display.max_columns = 50\n",
    "pd.options.display.max_rows = 200\n",
    "pd.options.display.max_colwidth= 50\n",
    "pd.options.display.precision = 3"
   ]
  },
  {
   "cell_type": "code",
   "execution_count": null,
   "metadata": {},
   "outputs": [],
   "source": [
    "#Define initial model parameters\n",
    "cv_n_split = 3\n",
    "random_state = 42\n",
    "test_train_split = 0.25\n",
    "sample = True\n",
    "sample_size = 0.4"
   ]
  },
  {
   "cell_type": "code",
   "execution_count": null,
   "metadata": {},
   "outputs": [],
   "source": [
    "#data = pd.read_csv(\"../1019415451_T_ONTIME_MARKETING-4.csv\")\n",
    "df01_csv = pd.read_csv(\"../../Downloads/ontime-2019-01.csv\")\n",
    "print (\"Imported {} with {} variables\".format(df01_csv.shape[0],df01_csv.shape[1]))"
   ]
  },
  {
   "cell_type": "code",
   "execution_count": null,
   "metadata": {},
   "outputs": [],
   "source": [
    "df01_csv.dtypes"
   ]
  },
  {
   "cell_type": "code",
   "execution_count": null,
   "metadata": {},
   "outputs": [],
   "source": [
    "if sample:\n",
    "    df01_csv = df01_csv.sample(frac = sample_size, replace=True, random_state=random_state)\n"
   ]
  },
  {
   "cell_type": "markdown",
   "metadata": {},
   "source": [
    "# Data Cleaning \n",
    "* Selecting relevant and discard irrelevant columns for the prediction\n",
    "* clean missing values\n",
    "* Variable transformations\n",
    "* Configuring up variable types"
   ]
  },
  {
   "cell_type": "code",
   "execution_count": null,
   "metadata": {},
   "outputs": [],
   "source": [
    "#List available columns on dataset\n",
    "list(df01_csv.columns) "
   ]
  },
  {
   "cell_type": "code",
   "execution_count": null,
   "metadata": {},
   "outputs": [],
   "source": [
    "\n",
    "#Select most relevant columns, drop the rest\n",
    "relevant_columns = ['DAY_OF_MONTH','DAY_OF_WEEK', # Date information\n",
    "                    'OP_CARRIER','TAIL_NUM', #Airline and Aircraft Identifier\n",
    "                    'ORIGIN','DEST',#Origin and destination\n",
    "                    'DEP_DELAY','DEP_DELAY_NEW','DEP_DEL15','DEP_DELAY_GROUP','DEP_TIME_BLK','TAXI_OUT', #departure delays\n",
    "                    'ARR_DELAY','ARR_DELAY_NEW','ARR_DEL15','ARR_DELAY_GROUP','ARR_TIME_BLK',#Arrival information\n",
    "                    'CRS_ELAPSED_TIME','ACTUAL_ELAPSED_TIME','AIR_TIME','FLIGHTS','DISTANCE','DISTANCE_GROUP',#Flight summaries\n",
    "                    'CANCELLED','DIVERTED', #Cancelled/Deleted information\n",
    "                    'CARRIER_DELAY','WEATHER_DELAY','NAS_DELAY','SECURITY_DELAY','LATE_AIRCRAFT_DELAY']\n",
    "df01 = df01_csv[df01_csv.columns.intersection(relevant_columns)] #Extract relevant columns from csv dataframe\n",
    "df01.columns = map(str.lower, df01.columns)  #Set column names to lowercase\n",
    "df01.head()"
   ]
  },
  {
   "cell_type": "code",
   "execution_count": null,
   "metadata": {},
   "outputs": [],
   "source": [
    "df01.dtypes"
   ]
  },
  {
   "cell_type": "code",
   "execution_count": null,
   "metadata": {},
   "outputs": [],
   "source": [
    "#Review dataframe columns summary for diagnostics and cleaning\n",
    "pd.DataFrame({ \n",
    "            'unicos':df01.nunique(),\n",
    "            'missing total': df01.isna().sum(),\n",
    "            'missing %': df01.isna().sum()/df01.count(),\n",
    "            'type':df01.dtypes})"
   ]
  },
  {
   "cell_type": "code",
   "execution_count": null,
   "metadata": {},
   "outputs": [],
   "source": [
    "df01.op_carrier.unique()"
   ]
  },
  {
   "cell_type": "code",
   "execution_count": null,
   "metadata": {},
   "outputs": [],
   "source": [
    "df01.describe()"
   ]
  },
  {
   "cell_type": "code",
   "execution_count": null,
   "metadata": {},
   "outputs": [],
   "source": [
    "outliers = df01[df01['arr_delay_new']>1000]\n",
    "outliers.head()"
   ]
  },
  {
   "cell_type": "code",
   "execution_count": null,
   "metadata": {},
   "outputs": [],
   "source": [
    "#Fix data types for bool columns\n",
    "df01[\"diverted\"] = df01[\"diverted\"].apply(lambda x: 1 if x > 0 else 0)\n",
    "df01[\"cancelled\"] = df01[\"cancelled\"].apply(lambda x: 1 if x > 0 else 0)\n",
    "df01[\"arr_del15\"] = df01[\"arr_del15\"].apply(lambda x: 1 if x > 0 else 0)\n",
    "df01[\"dep_del15\"] = df01[\"dep_del15\"].apply(lambda x: 1 if x > 0 else 0)"
   ]
  },
  {
   "cell_type": "code",
   "execution_count": null,
   "metadata": {},
   "outputs": [],
   "source": [
    "df01.head()"
   ]
  },
  {
   "cell_type": "code",
   "execution_count": null,
   "metadata": {},
   "outputs": [],
   "source": [
    "#Fix data types for categorical columns\n",
    "for col in ['day_of_month','day_of_week','op_carrier','origin','dest','dep_delay_group','dep_time_blk','arr_time_blk' ,'arr_delay_group','distance_group']:\n",
    "    df01[col] = df01[col].astype('category')\n",
    "#Fix data types for string columns\n",
    "df01['tail_num'] = df01['tail_num'].astype('string')"
   ]
  },
  {
   "cell_type": "code",
   "execution_count": null,
   "metadata": {},
   "outputs": [],
   "source": [
    "df01.dtypes"
   ]
  },
  {
   "cell_type": "code",
   "execution_count": null,
   "metadata": {},
   "outputs": [],
   "source": [
    "df01.flights.value_counts()"
   ]
  },
  {
   "cell_type": "code",
   "execution_count": null,
   "metadata": {},
   "outputs": [],
   "source": [
    "df_delayed = df01[(df01['cancelled'] == 0) & (df01['diverted']==0)]\n",
    "df_delayed.shape"
   ]
  },
  {
   "cell_type": "code",
   "execution_count": null,
   "metadata": {},
   "outputs": [],
   "source": [
    "#Replace with 0 all NA values on delay \n",
    "df_delayed['carrier_delay'] = df_delayed['carrier_delay'].fillna(0)\n",
    "df_delayed['weather_delay'] = df_delayed['weather_delay'].fillna(0)\n",
    "df_delayed['nas_delay'] = df_delayed['nas_delay'].fillna(0)\n",
    "df_delayed['security_delay'] = df_delayed['security_delay'].fillna(0)\n",
    "df_delayed['late_aircraft_delay'] = df_delayed['late_aircraft_delay'].fillna(0)"
   ]
  },
  {
   "cell_type": "code",
   "execution_count": null,
   "metadata": {},
   "outputs": [],
   "source": [
    "df_delayed.drop(['flights','diverted','cancelled'], axis='columns', inplace=True)"
   ]
  },
  {
   "cell_type": "code",
   "execution_count": null,
   "metadata": {},
   "outputs": [],
   "source": [
    "#Review dataframe columns summary for diagnostics and cleaning\n",
    "pd.DataFrame({ \n",
    "            'unicos':df_delayed.nunique(),\n",
    "            'missing total': df_delayed.isna().sum(),\n",
    "            'missing %': df_delayed.isna().sum()/df_delayed.count(),\n",
    "            'type':df_delayed.dtypes})"
   ]
  },
  {
   "cell_type": "markdown",
   "metadata": {},
   "source": [
    "# Data transformations"
   ]
  },
  {
   "cell_type": "code",
   "execution_count": null,
   "metadata": {},
   "outputs": [],
   "source": [
    "#Create variable to identify if flight is in a weekend\n",
    "df_delayed['is_weekend'] = np.where(df_delayed['day_of_week'].isin([5,6,7]), 1, 0)"
   ]
  },
  {
   "cell_type": "code",
   "execution_count": null,
   "metadata": {},
   "outputs": [],
   "source": [
    "df_delayed[df_delayed['day_of_week'].isin([5,6,7])]"
   ]
  },
  {
   "cell_type": "code",
   "execution_count": null,
   "metadata": {},
   "outputs": [],
   "source": [
    "df_delayed['is_weekend'].value_counts()"
   ]
  },
  {
   "cell_type": "code",
   "execution_count": null,
   "metadata": {},
   "outputs": [],
   "source": [
    "#Import dataset for bussi airports, contains airport code and Total Enplaned Passengers in 2019\n",
    "top_airports_csv = pd.read_csv(\"../../Downloads/topAirports2.csv\")\n",
    "top_airports_csv.head()"
   ]
  },
  {
   "cell_type": "code",
   "execution_count": null,
   "metadata": {},
   "outputs": [],
   "source": [
    "top_airports_csv['total_enplaned'].describe()"
   ]
  },
  {
   "cell_type": "code",
   "execution_count": null,
   "metadata": {},
   "outputs": [],
   "source": [
    "plt.style.use('ggplot')\n",
    "plt.hist(top_airports_csv['total_enplaned'],bins=20)\n",
    "plt.show()"
   ]
  },
  {
   "cell_type": "code",
   "execution_count": null,
   "metadata": {},
   "outputs": [],
   "source": [
    "top_airports_csv.plot(kind='bar',x='airport_code',y='total_enplaned')"
   ]
  },
  {
   "cell_type": "code",
   "execution_count": null,
   "metadata": {},
   "outputs": [],
   "source": [
    "# Selecting the top 5 most busy airports by passenger traffic count\n",
    "top5 = top_airports_csv.nlargest(10, 'total_enplaned')\n",
    "top5['airport_code']"
   ]
  },
  {
   "cell_type": "code",
   "execution_count": null,
   "metadata": {},
   "outputs": [],
   "source": [
    "df_delayed['origin_top5'] = df_delayed.origin.isin(top5['airport_code'].tolist())\n",
    "df_delayed['dest_top5'] = df_delayed.dest.isin(top5['airport_code'].tolist())"
   ]
  },
  {
   "cell_type": "code",
   "execution_count": null,
   "metadata": {},
   "outputs": [],
   "source": [
    "df_delayed.head()"
   ]
  },
  {
   "cell_type": "code",
   "execution_count": null,
   "metadata": {},
   "outputs": [],
   "source": [
    "import seaborn as sns\n",
    "sns.set()\n",
    "sns.set_context('notebook',rc = {\"grid.linewidth\": 5})\n",
    "sns.set_style(\"whitegrid\")\n",
    "colors = [\"#345E6F\",\"#264653\",\"#287271\",\"#2a9d8f\",\"#e9c46a\",\"#efb366\",\"#f4a261\",\"#ee8959\",\"#e76f51\",\"#e87153\",\"#e97c61\", '#902C14']\n",
    "bin_colors = [\"#264653\",\"#2A9D8F\",\"#ee8959\",\"#e97c61\"]\n",
    "sns.set_palette(sns.color_palette(colors))\n",
    "mul_palette = sns.color_palette(colors)\n",
    "bin_palette = sns.color_palette(bin_colors)\n",
    "sns.set(rc={'figure.figsize':(10,5)}, font_scale=1.5)\n",
    "sns.set_style({'axes.facecolor':'white', 'grid.color': '.8','grid.linestyle': '--'})"
   ]
  },
  {
   "cell_type": "code",
   "execution_count": null,
   "metadata": {},
   "outputs": [],
   "source": [
    "ax = sns.scatterplot(x=\"dep_delay_new\", y=\"taxi_out\", size='arr_delay_new', data = df_delayed)\n",
    "ax.set(xlabel = \"Departure Delay\", ylabel = \"Arrival Delay\",title = 'Departure delay vs arrival delay (Minutes)')\n",
    "#set labels friendly name\n",
    "#ax.set_xticklabels(['On Time','Delayed'])\n",
    "#Hide Y labels\n",
    "#ax.axes.yaxis.set_visible(False)"
   ]
  },
  {
   "cell_type": "code",
   "execution_count": null,
   "metadata": {},
   "outputs": [],
   "source": []
  },
  {
   "cell_type": "code",
   "execution_count": null,
   "metadata": {},
   "outputs": [],
   "source": [
    "ax = sns.scatterplot(x=\"arr_time_blk\", y=\"arr_delay_new\", data = df_delayed)\n",
    "ax.set(xlabel = \"Departure Delay\", ylabel = \"Arrival Delay\",title = 'Departure delay vs arrival delay (Minutes)')\n",
    "#set labels friendly name\n",
    "ax.set_xticklabels(list(df_delayed.arr_time_blk.unique()),rotation=90)\n",
    "#Hide Y labels\n",
    "#ax.axes.yaxis.set_visible(False)"
   ]
  },
  {
   "cell_type": "code",
   "execution_count": null,
   "metadata": {},
   "outputs": [],
   "source": [
    "ax = sns.countplot(x=\"arr_time_blk\", hue='arr_del15', data = df_delayed,palette = bin_palette)\n",
    "ax.set(xlabel = \"Departure Delay\", ylabel = \"Arrival Delay\",title = 'Departure delay vs arrival delay (Minutes)')\n",
    "#set labels friendly name\n",
    "ax.set_xticklabels(list(df_delayed.arr_time_blk.unique()),rotation=90)"
   ]
  },
  {
   "cell_type": "code",
   "execution_count": null,
   "metadata": {},
   "outputs": [],
   "source": [
    "#create plot\n",
    "ax = sns.countplot(x = 'arr_del15', hue = 'day_of_week' , data = df_delayed,palette = mul_palette)\n",
    "#Set Title\n",
    "ax.set(xlabel = \"\",title = 'Delayed Flights per day of the week')\n",
    "#set labels friendly name\n",
    "ax.legend(['Monday','Tuesday','Wensday','Thursday','Friday','Saturday','Sunday'])\n",
    "ax.set_xticklabels(['On Time','Delayed'])\n",
    "#Hide Y labels\n",
    "ax.axes.yaxis.set_visible(False)"
   ]
  },
  {
   "cell_type": "code",
   "execution_count": null,
   "metadata": {},
   "outputs": [],
   "source": [
    "df_delayed[df_delayed['arr_del15']>0]"
   ]
  },
  {
   "cell_type": "code",
   "execution_count": null,
   "metadata": {},
   "outputs": [],
   "source": [
    "#create plot\n",
    "ax = sns.countplot(x = 'day_of_month' , data = df_delayed[df_delayed['arr_del15']>0],palette = mul_palette)\n",
    "#Set Title\n",
    "ax.set(xlabel = \"\",title = 'Delayed flights per day of the month')\n",
    "#set labels friendly name\n",
    "#ax.set_xticklabels(['On Time','Delayed'])\n",
    "#Hide Y labels\n",
    "ax.axes.yaxis.set_visible(False)"
   ]
  },
  {
   "cell_type": "code",
   "execution_count": null,
   "metadata": {},
   "outputs": [],
   "source": [
    "sns.catplot(x=\"day_of_week\", y=\"arr_delay\", data=df_delayed, palette = mul_palette, kind=\"swarm\")\n",
    "ax.set(xlabel = \"\",title = 'Delayed time per day of week')\n",
    "#set labels friendly name\n",
    "#ax.set_xticklabels(['On Time','Delayed'])\n",
    "ax.set_xticklabels(['Monday','Tuesday','Wensday','Thursday','Friday','Saturday','Sunday'],rotation=30)\n",
    "#Hide Y labels\n",
    "ax.axes.yaxis.set_visible(False)"
   ]
  },
  {
   "cell_type": "markdown",
   "metadata": {},
   "source": [
    "## Column manipulations"
   ]
  },
  {
   "cell_type": "code",
   "execution_count": null,
   "metadata": {},
   "outputs": [],
   "source": [
    "aircrafts = df_delayed.tail_num.unique()\n",
    "print(aircrafts)"
   ]
  },
  {
   "cell_type": "code",
   "execution_count": null,
   "metadata": {},
   "outputs": [],
   "source": [
    "len(aircrafts)"
   ]
  },
  {
   "cell_type": "code",
   "execution_count": null,
   "metadata": {},
   "outputs": [],
   "source": [
    "df_aircrafts = df01[['tail_num']]\n",
    "df_aircrafts = df_aircrafts.drop_duplicates(subset = [\"tail_num\"])\n",
    "df_aircrafts.to_csv('df_aircrafts.csv',index=False)"
   ]
  },
  {
   "cell_type": "code",
   "execution_count": null,
   "metadata": {},
   "outputs": [],
   "source": [
    "df_aircrafts.head(100)"
   ]
  },
  {
   "cell_type": "code",
   "execution_count": null,
   "metadata": {},
   "outputs": [],
   "source": [
    "df_airports = df01.drop_duplicates(subset = [\"origin\"])\n",
    "df_airports = df_airports[['origin']]\n",
    "df_airports.head()"
   ]
  },
  {
   "cell_type": "code",
   "execution_count": null,
   "metadata": {},
   "outputs": [],
   "source": [
    "df01.groupby(['dep_del15','origin']).size().unstack().plot(kind='bar',stacked=True)\n",
    "plt.show()"
   ]
  },
  {
   "cell_type": "code",
   "execution_count": null,
   "metadata": {},
   "outputs": [],
   "source": [
    "df01.plot(kind='scatter',x='dep_delay',y='arr_delay',color='red')\n",
    "plt.show()"
   ]
  },
  {
   "cell_type": "code",
   "execution_count": null,
   "metadata": {},
   "outputs": [],
   "source": [
    "df01.plot(kind='scatter',x='is_weekend',y='arr_delay',color='red')\n",
    "plt.show()"
   ]
  },
  {
   "cell_type": "markdown",
   "metadata": {},
   "source": [
    "# Exploratory Analisis"
   ]
  },
  {
   "cell_type": "code",
   "execution_count": null,
   "metadata": {},
   "outputs": [],
   "source": []
  },
  {
   "cell_type": "code",
   "execution_count": null,
   "metadata": {},
   "outputs": [],
   "source": [
    "#Plot delays on departures vs arrivals\n",
    "f, (ax,ax1) = plt.subplots(1,2, figsize=(12,6))\n",
    "dep = sns.countplot(df_delayed['dep_del15'], ax=ax)\n",
    "dep.set_title('Depatures')\n",
    "dep.set_xlabel('Delayed15')\n",
    "dep.set_ylabel('Freq')\n",
    "\n",
    "arr = sns.countplot(df_delayed['arr_del15'], ax=ax1)\n",
    "arr.set_title('Arrivals')\n",
    "arr.set_xlabel('Delayed15')\n",
    "arr.set_ylabel('Freq')"
   ]
  },
  {
   "cell_type": "code",
   "execution_count": null,
   "metadata": {},
   "outputs": [],
   "source": [
    "df_delayed.dtypes"
   ]
  },
  {
   "cell_type": "code",
   "execution_count": null,
   "metadata": {},
   "outputs": [],
   "source": [
    "#Dep delay vs arr delay\n",
    "sns.relplot(x=\"dep_delay\", y=\"arr_delay\", data=df_delayed);"
   ]
  },
  {
   "cell_type": "code",
   "execution_count": null,
   "metadata": {},
   "outputs": [],
   "source": [
    "#Dep delay vs arr delay\n",
    "sns.lmplot(x=\"dep_delay\", y=\"arr_delay\",hue=\"dep_time_blk\",data=df_delayed);"
   ]
  },
  {
   "cell_type": "code",
   "execution_count": null,
   "metadata": {},
   "outputs": [],
   "source": [
    "sns.distplot(df_delayed['arr_del15'])"
   ]
  },
  {
   "cell_type": "code",
   "execution_count": null,
   "metadata": {},
   "outputs": [],
   "source": [
    "sns.regplot(data=df_delayed,\n",
    "         y='dep_del15',\n",
    "         x='distance',\n",
    "         x_jitter=.1)"
   ]
  },
  {
   "cell_type": "code",
   "execution_count": null,
   "metadata": {},
   "outputs": [],
   "source": [
    "#Plot delays on departures vs arrivals\n",
    "f, (ax,ax1) = plt.subplots(1,2, figsize=(12,6))\n",
    "dep = sns.countplot(df_delayed['origin'], ax=ax)\n",
    "arr = sns.countplot(df_delayed['dest'], ax=ax1)\n"
   ]
  },
  {
   "cell_type": "code",
   "execution_count": null,
   "metadata": {},
   "outputs": [],
   "source": [
    "#Plot delays on departures vs arrivals\n",
    "fig, axs = plt.subplots(ncols=5, figsize=(30,5))\n",
    "sns.violinplot(x=\"survived\", y=\"age\", hue=\"dep_del15\", data=data, ax=axs[0])\n",
    "sns.pointplot(x=\"sibsp\", y=\"survived\", hue=\"dep_del15\", data=data, ax=axs[1])\n",
    "sns.pointplot(x=\"parch\", y=\"survived\", hue=\"dep_del15\", data=data, ax=axs[2])\n",
    "sns.pointplot(x=\"pclass\", y=\"survived\", hue=\"dep_del15\", data=data, ax=axs[3])\n",
    "sns.violinplot(x=\"survived\", y=\"fare\", hue=\"dep_del15\", data=data, ax=axs[4])\n"
   ]
  },
  {
   "cell_type": "code",
   "execution_count": null,
   "metadata": {},
   "outputs": [],
   "source": [
    "sns.pointplot(x=\"origin\", y=\"dep_del15\", data=df_delayed)"
   ]
  },
  {
   "cell_type": "code",
   "execution_count": null,
   "metadata": {},
   "outputs": [],
   "source": [
    "#Checking the distribution of delayed and not delayed\n",
    "print(df_delayed['dep_del15'].value_counts())\n",
    "print(df_delayed.shape)"
   ]
  },
  {
   "cell_type": "code",
   "execution_count": null,
   "metadata": {},
   "outputs": [],
   "source": [
    "f,ax= plt.subplots(figsize=(15,15))\n",
    "sns.heatmap(df_delayed.corr(),linewidths=.5,annot=True,fmt='.4f',ax=ax)\n",
    "plt.show()"
   ]
  },
  {
   "cell_type": "code",
   "execution_count": null,
   "metadata": {},
   "outputs": [],
   "source": [
    "df_carrier = pd.DataFrame(df_delayed['op_carrier'].value_counts().reset_index().values, columns=[\"op_carrier\", \"AggregateOP\"])\n",
    "df_carrier= df_carrier.sort_values('AggregateOP',ascending=False)\n",
    "#df_carrier = df_carrier.sort_values('AggregateOP',ascending=True)\n",
    "df_carrier"
   ]
  },
  {
   "cell_type": "code",
   "execution_count": null,
   "metadata": {},
   "outputs": [],
   "source": [
    "print(df_delayed['dep_del15'].value_counts())\n",
    "df_carrier_delayed = df_delayed[df_delayed['dep_del15'] ==True]\n",
    "df_carrier_delayed = pd.DataFrame(df_carrier_delayed['op_carrier'].value_counts().reset_index().values, columns=[\"op_carrier\", \"AggregateOP\"])\n",
    "df_carrier_delayed"
   ]
  },
  {
   "cell_type": "code",
   "execution_count": null,
   "metadata": {},
   "outputs": [],
   "source": [
    "# creating subplots \n",
    "ax = plt.subplots() \n",
    "sns.set_style('dark')\n",
    "sns.set_palette('pastel')\n",
    "# plotting columns \n",
    "ax = sns.barplot(x='op_carrier', y='AggregateOP',data=df_carrier ,color='g') \n",
    "ax = sns.barplot(x='op_carrier', y='AggregateOP',data=df_carrier_delayed, color='r') \n",
    "  \n",
    "# renaming the axes \n",
    "ax.set(xlabel=\"x-axis\", ylabel=\"y-axis\") \n",
    "  \n",
    "# visulaizing illustration \n",
    "plt.show() "
   ]
  },
  {
   "cell_type": "code",
   "execution_count": null,
   "metadata": {},
   "outputs": [],
   "source": [
    "sns.set_style('dark')\n",
    "sns.set_palette('bright')\n",
    "sns.barplot(x=\"op_carrier\", y=\"AggregateOP\", data=df_carieer)"
   ]
  },
  {
   "cell_type": "code",
   "execution_count": null,
   "metadata": {},
   "outputs": [],
   "source": [
    "df_carieer = df_carieer.sort_values('AggregateOP',ascending=True)\n",
    "df_carieer.shape"
   ]
  },
  {
   "cell_type": "code",
   "execution_count": null,
   "metadata": {},
   "outputs": [],
   "source": [
    "df_carieer = pd.DataFrame(df_delayed['op_carrier'].value_counts().reset_index().values, columns=[\"op_carrier\", \"AggregateOP\"])\n",
    "df_carieer= df_carieer.sort_values('AggregateOP',ascending=False)\n",
    "\n",
    "fig = px.bar(df_carieer, y='AggregateOP', x='op_carrier', text='AggregateOP', opacity = 0.8)\n",
    "fig.update_traces(texttemplate='%{text:.1s}', textposition='outside')\n",
    "fig.update_layout(uniformtext_minsize=4, uniformtext_mode='hide', title_x = 0.5,title_text='Carriers Count (OP Carrier)', yaxis=dict(title='Count'),\n",
    "                  xaxis=dict(title='OP Carrier Code'))\n",
    "fig.add_annotation( x='WN', y=100000, text=\"Highest OP CARRIER - WN\",showarrow=True, font=dict( family=\"Courier New, monospace\", size=10, color=\"#ffffff\" ), align=\"right\", arrowhead=2, arrowsize=1, arrowwidth=2, arrowcolor=\"#636363\", ax=120, ay=0, bordercolor=\"#c7c7c7\", borderwidth=2, borderpad=4, bgcolor=\"#ff7f0e\", opacity=0.8)\n",
    "\n",
    "fig.add_trace(go.Scatter(x=df_carieer['op_carrier'], y=df_carieer['AggregateOP'],\n",
    "                    mode='lines+markers',opacity = 0.3,showlegend=False,\n",
    "                   line = dict(\n",
    "        smoothing = 1.2, color = 'blue',\n",
    "        shape = \"spline\"\n",
    "    )))\n",
    "\n",
    "fig.show()"
   ]
  },
  {
   "cell_type": "code",
   "execution_count": null,
   "metadata": {},
   "outputs": [],
   "source": [
    "# Review delays vs Departure time block\n",
    "dep_time_blk = df_delayed[['dep_time_blk','dep_del15']].groupby('dep_time_blk').sum().sort_values(by='dep_del15',ascending=False)\n",
    "dep_time_blk['percent'] = dep_time_blk['dep_del15']/(dep_time_blk['dep_del15'].sum())*100\n",
    "print(dep_time_blk)\n",
    "print('Total records: '+str(dep_time_blk['dep_del15'].sum()))"
   ]
  },
  {
   "cell_type": "code",
   "execution_count": null,
   "metadata": {},
   "outputs": [],
   "source": [
    "# Review departure delays vs arrival time block\n",
    "arr_time_blk = df_delayed[['arr_time_blk','arr_del15']].groupby('arr_time_blk').sum().sort_values(by='arr_del15',ascending=False)\n",
    "arr_time_blk['percent'] = arr_time_blk['arr_del15']/(arr_time_blk['arr_del15'].sum())*100\n",
    "print(arr_time_blk)\n",
    "print('Total records: '+str(arr_time_blk['arr_del15'].sum()))"
   ]
  },
  {
   "cell_type": "code",
   "execution_count": null,
   "metadata": {},
   "outputs": [],
   "source": [
    "print(df_delayed['day_of_week'].value_counts())\n",
    "print(df_delayed.shape)"
   ]
  },
  {
   "cell_type": "code",
   "execution_count": null,
   "metadata": {},
   "outputs": [],
   "source": [
    "#Delayed vs weekday\n",
    "weekday = df_delayed[['day_of_week','dep_del15']].groupby('day_of_week').sum().sort_values(by='dep_del15',ascending=False)\n",
    "weekday['percent'] = weekday['dep_del15']/(weekday['dep_del15'].sum())*100\n",
    "print(weekday)\n",
    "print('Total records: '+str(weekday['dep_del15'].sum()))"
   ]
  },
  {
   "cell_type": "code",
   "execution_count": null,
   "metadata": {},
   "outputs": [],
   "source": [
    "#Delayed vs Monthday\n",
    "monthday = df_delayed[['day_of_month','dep_del15']].groupby('day_of_month').sum().sort_values(by='dep_del15',ascending=False)\n",
    "monthday['percent'] = monthday['dep_del15']/(monthday['dep_del15'].sum())*100\n",
    "print(monthday)\n",
    "print('Total records: '+str(monthday['dep_del15'].sum()))"
   ]
  },
  {
   "cell_type": "code",
   "execution_count": null,
   "metadata": {},
   "outputs": [],
   "source": [
    "#Delayed vs origin airport\n",
    "origin = df_delayed[['origin','origin_top10','dep_del15']].groupby(['origin','origin_top10']).sum().sort_values(by='dep_del15',ascending=False)\n",
    "origin['percent'] = origin['dep_del15']/(origin['dep_del15'].sum())*100\n",
    "#print(origin)\n",
    "print(origin[0:9])\n",
    "#print('Total records: '+str(origin['dep_del15'].sum()))"
   ]
  },
  {
   "cell_type": "code",
   "execution_count": null,
   "metadata": {},
   "outputs": [],
   "source": [
    "dest = df_delayed[['dest','arr_del15','dest_top10']].groupby(['dest','dest_top10']).sum().sort_values(by='arr_del15',ascending=False)\n",
    "dest['PERCENTUAL'] = dest['arr_del15']/(dest['arr_del15'].sum())*100\n",
    "dest.head(10)"
   ]
  },
  {
   "cell_type": "code",
   "execution_count": null,
   "metadata": {},
   "outputs": [],
   "source": [
    "print(df_delayed['origin_top10'].value_counts())\n",
    "print(df_delayed.shape)\n",
    "#print(origin[700:])"
   ]
  },
  {
   "cell_type": "code",
   "execution_count": null,
   "metadata": {},
   "outputs": [],
   "source": [
    "df_delayed.groupby('origin').sum()"
   ]
  },
  {
   "cell_type": "code",
   "execution_count": null,
   "metadata": {},
   "outputs": [],
   "source": [
    "df_delayed['day_of_week'].value_counts()"
   ]
  },
  {
   "cell_type": "code",
   "execution_count": null,
   "metadata": {},
   "outputs": [],
   "source": [
    "df_delayed[['origin','origin_top10']].value_counts()"
   ]
  },
  {
   "cell_type": "code",
   "execution_count": null,
   "metadata": {},
   "outputs": [],
   "source": [
    "    88724+     82732+    104663+    111874+    109367+     68850+     84640"
   ]
  },
  {
   "cell_type": "code",
   "execution_count": null,
   "metadata": {},
   "outputs": [],
   "source": [
    "df_delayed.shape"
   ]
  },
  {
   "cell_type": "markdown",
   "metadata": {},
   "source": [
    "# Data set split"
   ]
  },
  {
   "cell_type": "code",
   "execution_count": null,
   "metadata": {},
   "outputs": [],
   "source": [
    "y=df_delayed['arr_del15']\n",
    "X_train, X_test, y_train, y_test = train_test_split(X, y, test_size=0.33, random_state=42)"
   ]
  }
 ],
 "metadata": {
  "kernelspec": {
   "display_name": "Python 3",
   "language": "python",
   "name": "python3"
  },
  "language_info": {
   "codemirror_mode": {
    "name": "ipython",
    "version": 3
   },
   "file_extension": ".py",
   "mimetype": "text/x-python",
   "name": "python",
   "nbconvert_exporter": "python",
   "pygments_lexer": "ipython3",
   "version": "3.7.10"
  }
 },
 "nbformat": 4,
 "nbformat_minor": 4
}