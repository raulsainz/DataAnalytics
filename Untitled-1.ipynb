{
 "cells": [
  {
   "cell_type": "markdown",
   "metadata": {},
   "source": [
    "# Flight Delay Prediction (Jan 2019)\n",
    "The dataset contains records gathered by the Bureau of Transportation Statistics (BTS)[9] toprovide historical comparisons of monthly on-time reports filed by large US Airlines.  \n",
    "\n",
    "_Only datasetsfor 2019 intentionally selected due to the substantial effect of COVID19 in the aviation industry in2020, it is out of scope of this project to analyze this factor._\n",
    "### Source:Bureau of Transportation Statistics \n",
    "### Number of rows:1,984,933\n",
    "### Dataset features and description:\n",
    "\n",
    "| Variable name               | Description                                                                                            |\n",
    "|-----------------------------|--------------------------------------------------------------------------------------------------------|\n",
    "| DayOfMonth                  | Day of Month                                                    |\n",
    "| DayOfWeek                   | Day of Week  (1 - Monday, 2 -Tuesday, 3 - Wendsday)                                                    |\n",
    "| Operating\\_Airline          | Carrier Code                                                                                           |\n",
    "| Origin                      | Origin Airport                                                                                         |\n",
    "| Dest                        | Destination Airport                                                                                    |\n",
    "| DepTime                     | Actual Departure Time (local time: hhmm)                                                               |\n",
    "| DepDelay                    | Difference between scheduled and actual departure time (Minutes)                                       |\n",
    "| DepDel15                    | Departure Delay Indicator (1=Yes)                                                                      |\n",
    "| DepartureDelayGroups        | Departure Delay intervals, every (15 minutes from <-15 to >180)                                        |\n",
    "| TaxiOut                     | Taxi-Out Time (Minutes)                                                                                |\n",
    "| TaxiIn                      | Taxi-In Time (Minutes)                                                                                 |\n",
    "| **ArrDelay (target)**       | **Difference in minutes between scheduled and actual arrival time**. *Early arrivals show negative numbers |\n",
    "| ArrDel15                    | Arrival Delay Indicator, 15 Minutes or More (1=Yes)                                                    |\n",
    "| ArrivalDelayGroups          | Arrival Delay intervals (15-minutes from <-15 to >180)                                                 |\n",
    "| Cancelled                   | Cancelled Flight Indicator (1=Yes)                                                                     |\n",
    "| CancellationCode            | Specifies The Reason For Cancellation                                                                  |\n",
    "| ActualElapsedTime           | Elapsed Time of Flight, in Minutes                                                                     |\n",
    "| AirTime                     | Flight Time, in Minutes                                                                                |                                                                                     |\n",
    "| Distance                    | Distance between airports (Miles)                                                                      |\n",
    "| DistanceGroup               | Distance FLight Segment, (every 250 Miles)                                                             |\n",
    "| CarrierDelay                | Delay by Carrier (Minutes)                                                                             |\n",
    "| NASDelay                    | Delay by NAS (Minutes)                                                                                 |\n",
    "| SecurityDelay               | Delay by Security (Minutes)                                                                            |\n",
    "| LateAircraftDelay           | Delay by Late Aircraft (in Minutes)                                                                    |\n",
    "| WeatherDelay                | Delay caused by Weather (Minutes)                                                                      |"
   ]
  },
  {
   "cell_type": "code",
   "execution_count": null,
   "metadata": {},
   "outputs": [],
   "source": [
    "#Import basic libraries\n",
    "import pandas as pd\n",
    "import numpy as np\n",
    "import matplotlib.pyplot as plt "
   ]
  },
  {
   "cell_type": "code",
   "execution_count": null,
   "metadata": {},
   "outputs": [],
   "source": [
    "#Setup pandas display parameters\n",
    "pd.options.display.max_columns = 50\n",
    "pd.options.display.max_rows = 200\n",
    "pd.options.display.max_colwidth= 50\n",
    "pd.options.display.precision = 3"
   ]
  },
  {
   "cell_type": "code",
   "execution_count": null,
   "metadata": {},
   "outputs": [],
   "source": [
    "#Define initial model parameters\n",
    "cv_n_split = 3\n",
    "random_state = 42\n",
    "test_train_split = 0.25\n",
    "sample = True\n",
    "sample_size = 0.1"
   ]
  },
  {
   "cell_type": "code",
   "execution_count": null,
   "metadata": {},
   "outputs": [],
   "source": [
    "#data = pd.read_csv(\"../1019415451_T_ONTIME_MARKETING-4.csv\")\n",
    "df01_csv = pd.read_csv(\"../../Downloads/ontime-2019-01.csv\",dtype={'a': str})\n",
    "print (\"Imported {} with {} variables\".format(df01_csv.shape[0],df01_csv.shape[1]))"
   ]
  },
  {
   "cell_type": "code",
   "execution_count": null,
   "metadata": {},
   "outputs": [],
   "source": [
    "df01_csv.shape"
   ]
  },
  {
   "cell_type": "code",
   "execution_count": null,
   "metadata": {},
   "outputs": [],
   "source": [
    "if sample:\n",
    "    df01_csv = df01_csv.sample(frac = sample_size, replace=True, random_state=random_state)\n",
    "df01_csv.shape"
   ]
  },
  {
   "cell_type": "markdown",
   "metadata": {},
   "source": [
    "# Data Cleaning \n",
    "* Selecting relevant and discard irrelevant columns for the prediction\n",
    "* clean missing values\n",
    "* Variable transformations\n",
    "* Configuring up variable types"
   ]
  },
  {
   "cell_type": "code",
   "execution_count": null,
   "metadata": {},
   "outputs": [],
   "source": [
    "\n",
    "#Select most relevant columns, drop the rest\n",
    "relevant_columns = ['DAY_OF_MONTH','DAY_OF_WEEK', # Date information\n",
    "                    'OP_CARRIER','TAIL_NUM', #Airline and Aircraft Identifier\n",
    "                    'ORIGIN','DEST',#Origin and destination\n",
    "                    'DEP_DELAY','DEP_DELAY_NEW','DEP_DEL15','DEP_DELAY_GROUP','DEP_TIME_BLK','TAXI_OUT', #departure delays\n",
    "                    'ARR_DELAY','ARR_DELAY_NEW','ARR_DEL15','ARR_DELAY_GROUP','ARR_TIME_BLK',#Arrival information\n",
    "                    'CRS_ELAPSED_TIME','ACTUAL_ELAPSED_TIME','AIR_TIME','FLIGHTS','DISTANCE',#Flight summaries\n",
    "                    'CANCELLED','DIVERTED', #Cancelled/Deleted information\n",
    "                    'CARRIER_DELAY','WEATHER_DELAY','NAS_DELAY','SECURITY_DELAY','LATE_AIRCRAFT_DELAY']\n",
    "df01 = df01_csv[df01_csv.columns.intersection(relevant_columns)] #Extract relevant columns from csv dataframe\n",
    "df01.columns = map(str.lower, df01.columns)  #Set column names to lowercase\n",
    "df01.head()"
   ]
  },
  {
   "cell_type": "code",
   "execution_count": null,
   "metadata": {},
   "outputs": [],
   "source": [
    "df01.dtypes.sort_values()"
   ]
  },
  {
   "cell_type": "code",
   "execution_count": null,
   "metadata": {},
   "outputs": [],
   "source": [
    "#Review dataframe columns summary for diagnostics and cleaning\n",
    "pd.DataFrame({ \n",
    "            'unicos':df01.nunique(),\n",
    "            'missing total': df01.isna().sum(),\n",
    "            'missing %': df01.isna().sum()/df01.count(),\n",
    "            'type':df01.dtypes})"
   ]
  },
  {
   "cell_type": "code",
   "execution_count": null,
   "metadata": {},
   "outputs": [],
   "source": [
    "#Fix data types for bool columns\n",
    "df01[\"diverted\"] = df01[\"diverted\"].apply(lambda x: 1 if x > 0 else 0)\n",
    "df01[\"cancelled\"] = df01[\"cancelled\"].apply(lambda x: 1 if x > 0 else 0)\n",
    "df01[\"arr_del15\"] = df01[\"arr_del15\"].apply(lambda x: 1 if x > 0 else 0)\n",
    "df01[\"dep_del15\"] = df01[\"dep_del15\"].apply(lambda x: 1 if x > 0 else 0)"
   ]
  },
  {
   "cell_type": "markdown",
   "metadata": {},
   "source": []
  },
  {
   "cell_type": "code",
   "execution_count": null,
   "metadata": {},
   "outputs": [],
   "source": [
    "pd.crosstab(df01.dep_delay.isna(), df01.cancelled).sort_values(by=1,ascending=False)"
   ]
  },
  {
   "cell_type": "code",
   "execution_count": null,
   "metadata": {},
   "outputs": [],
   "source": [
    "df01.flights.value_counts()"
   ]
  },
  {
   "cell_type": "code",
   "execution_count": null,
   "metadata": {},
   "outputs": [],
   "source": [
    "df_delayed = df01[(df01['cancelled'] == 0) & (df01['diverted']==0)]\n",
    "df_delayed.shape"
   ]
  },
  {
   "cell_type": "code",
   "execution_count": null,
   "metadata": {},
   "outputs": [],
   "source": [
    "#Replace with 0 all NA values on delay \n",
    "df_delayed['carrier_delay'] = df_delayed['carrier_delay'].fillna(0)\n",
    "df_delayed['weather_delay'] = df_delayed['weather_delay'].fillna(0)\n",
    "df_delayed['nas_delay'] = df_delayed['nas_delay'].fillna(0)\n",
    "df_delayed['security_delay'] = df_delayed['security_delay'].fillna(0)\n",
    "df_delayed['late_aircraft_delay'] = df_delayed['late_aircraft_delay'].fillna(0)"
   ]
  },
  {
   "cell_type": "code",
   "execution_count": null,
   "metadata": {},
   "outputs": [],
   "source": [
    "#Review dataframe columns summary for diagnostics and cleaning\n",
    "pd.DataFrame({ \n",
    "            'unicos':df_delayed.nunique(),\n",
    "            'missing total': df_delayed.isna().sum(),\n",
    "            'missing %': df_delayed.isna().sum()/df_delayed.count(),\n",
    "            'type':df_delayed.dtypes})"
   ]
  },
  {
   "cell_type": "code",
   "execution_count": null,
   "metadata": {},
   "outputs": [],
   "source": [
    "#Fix data types for categorical columns\n",
    "for col in ['day_of_month','day_of_week','op_carrier','origin','dest','dep_delay_group','dep_time_blk','arr_time_blk' ,'arr_delay_group','distance_group']:\n",
    "    df01[col] = df01[col].astype('category')\n",
    "#Fix data types for string columns\n",
    "df01['tail_num'] = df01['tail_num'].astype('string')\n",
    "df01.dtypes"
   ]
  },
  {
   "cell_type": "markdown",
   "metadata": {},
   "source": [
    "# Data Exploration and Visualizations"
   ]
  },
  {
   "cell_type": "code",
   "execution_count": null,
   "metadata": {},
   "outputs": [],
   "source": [
    "# Setup plot enviroment\n",
    "import seaborn as sns\n",
    "sns.set()\n",
    "sns.set_context('notebook',rc = {\"grid.linewidth\": 5})\n",
    "sns.set_style(\"whitegrid\")\n",
    "colors = [\"#345E6F\",\"#264653\",\"#287271\",\"#2a9d8f\",\"#e9c46a\",\"#efb366\",\"#f4a261\",\"#ee8959\",\"#e76f51\",\"#e87153\",\"#e97c61\", '#902C14']\n",
    "bin_colors = [\"#264653\",\"#2A9D8F\",\"#ee8959\",\"#e97c61\"]\n",
    "sns.set_palette(sns.color_palette(colors))\n",
    "mul_palette = sns.color_palette(colors)\n",
    "bin_palette = sns.color_palette(bin_colors)\n",
    "sns.set(rc={'figure.figsize':(10,5)}, font_scale=1.5)\n",
    "sns.set_style({'axes.facecolor':'white', 'grid.color': '.8','grid.linestyle': '--'})"
   ]
  },
  {
   "cell_type": "code",
   "execution_count": null,
   "metadata": {},
   "outputs": [],
   "source": [
    "sns.color_palette('YlGn')\n",
    "ax = sns.histplot(data=df_delayed, x=\"arr_delay\",kde=True, bins = 100, palette=diverging_colors)\n",
    "ax.set(xlabel = \"\", ylabel = \"\",title = 'Arrival delay Histogram',)\n",
    "ax.axes.yaxis.set_visible(False)"
   ]
  },
  {
   "cell_type": "code",
   "execution_count": null,
   "metadata": {},
   "outputs": [],
   "source": [
    "ax = sns.scatterplot(x=\"dep_delay\", y=\"arr_delay\", hue='arr_del15', data = df_delayed, palette=('YlGn'))\n",
    "ax.set(xlabel = \"Departure Delay\", ylabel = \"Arrival Delay\",title = 'Departure delay vs arrival delay (Minutes)')\n",
    "ax.legend(['On-Time', 'Delayed'])\n",
    "ax.axes.yaxis.set_ticks([])"
   ]
  },
  {
   "cell_type": "code",
   "execution_count": null,
   "metadata": {},
   "outputs": [],
   "source": [
    "ax = sns.scatterplot(x=\"arr_time_blk\", y=\"arr_delay_new\", data = df_delayed)\n",
    "ax.set(xlabel = \"Departure Time Block\", ylabel = \"Arrival Delay\",title = 'Departure Time vs arrival delay (Minutes)')\n",
    "#set labels friendly name\n",
    "ax.set_xticklabels(list(df_delayed.arr_time_blk.unique()),rotation=90)\n",
    "#Hide Y labels\n",
    "#ax.axes.yaxis.set_visible(False)"
   ]
  },
  {
   "cell_type": "code",
   "execution_count": null,
   "metadata": {},
   "outputs": [],
   "source": [
    "ax = sns.countplot(x=\"dep_time_blk\", hue='arr_del15', data = df_delayed,palette = bin_palette)\n",
    "ax.set(xlabel = \"Departure Delay\", ylabel = \"Arrival Delay\",title = 'Arrival delay vs Departure time block')\n",
    "#set labels friendly name\n",
    "ax.set_xticklabels(list(df_delayed.arr_time_blk.unique()),rotation=90)\n",
    "ax.legend(['On-Time', 'Delayed'])"
   ]
  },
  {
   "cell_type": "code",
   "execution_count": null,
   "metadata": {},
   "outputs": [],
   "source": [
    "#create plot\n",
    "ax = sns.countplot(x = 'arr_del15', hue = 'day_of_week' , data = df_delayed,palette = mul_palette)\n",
    "#Set Title\n",
    "ax.set(xlabel = \"\",title = 'Delayed Flights per day of the week')\n",
    "#set labels friendly name\n",
    "ax.legend(['Monday','Tuesday','Wensday','Thursday','Friday','Saturday','Sunday'])\n",
    "ax.set_xticklabels(['On Time','Delayed'])\n",
    "#Hide Y labels\n",
    "ax.axes.yaxis.set_visible(False)"
   ]
  },
  {
   "cell_type": "code",
   "execution_count": null,
   "metadata": {},
   "outputs": [],
   "source": []
  },
  {
   "cell_type": "code",
   "execution_count": null,
   "metadata": {},
   "outputs": [],
   "source": [
    "#create plot\n",
    "ax = sns.countplot(x = 'day_of_month' , data = df_delayed[df_delayed['arr_del15']>0],palette = mul_palette)\n",
    "#Set Title\n",
    "ax.set(xlabel = \"\",title = 'Delayed flights per day of the month')\n",
    "#set labels friendly name\n",
    "#ax.set_xticklabels(['On Time','Delayed'])\n",
    "#Hide Y labels\n",
    "ax.axes.yaxis.set_visible(False)"
   ]
  },
  {
   "cell_type": "code",
   "execution_count": null,
   "metadata": {},
   "outputs": [],
   "source": [
    "sns.catplot(x=\"day_of_week\", y=\"arr_delay\", data=df_delayed, palette = mul_palette, kind=\"swarm\")\n",
    "ax.set(xlabel = \"\",title = 'Delayed time per day of week')\n",
    "#set labels friendly name\n",
    "#ax.set_xticklabels(['On Time','Delayed'])\n",
    "ax.set_xticklabels(['Monday','Tuesday','Wensday','Thursday','Friday','Saturday','Sunday'],rotation=30)\n",
    "#Hide Y labels\n",
    "ax.axes.yaxis.set_visible(False)"
   ]
  },
  {
   "cell_type": "code",
   "execution_count": null,
   "metadata": {},
   "outputs": [],
   "source": [
    "ax = sns.scatterplot( x= \"actual_elapsed_time\", y = \"arr_delay_new\", hue = 'arr_del15', data = df_delayed)\n",
    "ax.set(xlabel = \"Time of Flight - Actual (min.)\", ylabel = \"Arrival Delay (min.)\",title = 'Time of Flight (actual) vs arrival delay (Minutes)')\n",
    "ax.legend(['On Time','Delayed'])"
   ]
  },
  {
   "cell_type": "code",
   "execution_count": null,
   "metadata": {},
   "outputs": [],
   "source": [
    "ax = sns.scatterplot(x = \"crs_elapsed_time\", y = \"arr_delay_new\", hue = 'arr_del15',data = df_delayed)\n",
    "ax.set(xlabel = \"Time of Flight (CRS)\", ylabel = \"Arrival Delay\",title = 'Time of Flight (CRS) vs arrival delay (Minutes)')\n",
    "ax.legend(['On Time','Delayed'])"
   ]
  },
  {
   "cell_type": "code",
   "execution_count": null,
   "metadata": {},
   "outputs": [],
   "source": [
    "ax = sns.scatterplot(x = \"distance\", y = \"arr_delay_new\", hue = 'arr_del15',data = df_delayed)\n",
    "ax.set(xlabel = \"Distance\", ylabel = \"Arrival Delay\",title = 'Distance vs arrival delay (Minutes)')\n"
   ]
  },
  {
   "cell_type": "code",
   "execution_count": null,
   "metadata": {},
   "outputs": [],
   "source": [
    "ax = sns.scatterplot(x = \"crs_elapsed_time\", y = \"arr_delay_new\",data = df_delayed)\n",
    "ax.set(xlabel = \"Time of Flight (CRS)\", ylabel = \"Arrival Delay\",title = 'Time of Flight (CRS) vs arrival delay (Minutes)')"
   ]
  },
  {
   "cell_type": "code",
   "execution_count": null,
   "metadata": {},
   "outputs": [],
   "source": [
    "fig, axes = plt.subplots(2, 2)\n",
    "sns.set_palette(\"bright\")\n",
    "#fig.suptitle('Linear relationship')\n",
    "sns.scatterplot( x= \"actual_elapsed_time\", y = \"arr_delay_new\", hue = 'arr_del15', data = df_delayed,ax=axes[0,0])\n",
    "sns.scatterplot(x = \"crs_elapsed_time\", y = \"arr_delay_new\",   hue = 'arr_del15',data = df_delayed, ax=axes[0,1])\n",
    "sns.scatterplot(x = \"air_time\", y = \"arr_delay_new\",   hue = 'arr_del15',data = df_delayed, ax=axes[1,0])\n",
    "sns.scatterplot(x = \"distance\", y = \"arr_delay_new\", hue = 'arr_del15',data = df_delayed, ax=axes[1,1])\n",
    "axes[0,0].set(xlabel = \"\", ylabel = \"\",title = 'Time of Flight (Actual)')\n",
    "axes[0,1].set(xlabel = \"\", ylabel = \"\",title = 'Time of Flight (CRS)')\n",
    "axes[1,0].set(xlabel = \"\", ylabel = \"\",title = 'Air Time')\n",
    "axes[1,1].set(xlabel = \"\", ylabel = \"\",title = 'Distance')\n",
    "\n",
    "axes[0,0].legend([],[], frameon=False)\n",
    "axes[0,1].legend([],[], frameon=False)\n",
    "axes[1,0].legend([],[], frameon=False)\n",
    "axes[1,1].legend([],[], frameon=False)\n",
    "\n",
    "axes[0,0].axes.yaxis.set_visible(False)\n",
    "axes[0,1].axes.yaxis.set_visible(False)\n",
    "axes[1,0].axes.yaxis.set_visible(False)\n",
    "axes[1,1].axes.yaxis.set_visible(False)\n",
    "\n",
    "axes[0,0].axes.xaxis.set_visible(False)\n",
    "axes[0,1].axes.xaxis.set_visible(False)\n",
    "axes[1,0].axes.xaxis.set_visible(False)\n",
    "axes[1,1].axes.xaxis.set_visible(False)"
   ]
  },
  {
   "cell_type": "code",
   "execution_count": null,
   "metadata": {},
   "outputs": [],
   "source": [
    "ax = sns.scatterplot(x = \"dep_delay_group\", y = \"arr_delay_new\",data = df_delayed)\n",
    "ax.set(xlabel = \"Departure delay group\", ylabel = \"Arrival Delay\",title = 'Departure Delay vs arrival delay (Minutes)')\n",
    "ax.legend(['On Time','Delayed'])"
   ]
  },
  {
   "source": [
    "# Variable transformations"
   ],
   "cell_type": "markdown",
   "metadata": {}
  },
  {
   "cell_type": "code",
   "execution_count": null,
   "metadata": {},
   "outputs": [],
   "source": [
    "df_delayed"
   ]
  },
  {
   "cell_type": "code",
   "execution_count": null,
   "metadata": {},
   "outputs": [],
   "source": [
    "origin_freq_encoding = (df_delayed.groupby('origin').size()) / len(df_delayed)\n",
    "df_delayed['origin_freq_encoding'] = df_delayed['origin'].apply(lambda x : origin_freq_encoding[x])"
   ]
  },
  {
   "cell_type": "code",
   "execution_count": null,
   "metadata": {},
   "outputs": [],
   "source": [
    "dest_freq_encoding = (df_delayed.groupby('dest').size()) / len(df_delayed)\n",
    "df_delayed['dest_freq_encoding'] = df_delayed['dest'].apply(lambda x : dest_freq_encoding[x])"
   ]
  },
  {
   "cell_type": "code",
   "execution_count": null,
   "metadata": {},
   "outputs": [],
   "source": [
    "dept_blk_freq = (df_delayed.groupby('dep_time_blk').size()) / len(df_delayed)\n",
    "df_delayed['dept_blk_freq'] = df_delayed['dep_time_blk'].apply(lambda x : dept_blk_freq[x])\n",
    "df_delayed.head()"
   ]
  },
  {
   "cell_type": "code",
   "execution_count": null,
   "metadata": {},
   "outputs": [],
   "source": [
    "df_train = df_delayed.drop(['cancelled','diverted','tail_num','op_carrier','flights','crs_elapsed_time','actual_elapsed_time','dep_delay','arr_delay','arr_del15','arr_delay_group','dep_delay_group','distance_group','origin','dest','dep_time_blk','arr_time_blk'],axis='columns', inplace=False)\n",
    "df_train.dtypes"
   ]
  },
  {
   "cell_type": "code",
   "execution_count": null,
   "metadata": {},
   "outputs": [],
   "source": [
    "plt.figure(figsize=(8, 12))\n",
    "heatmap = sns.heatmap(df_train.corr()[['arr_delay_new']].sort_values(by='arr_delay_new', ascending=False), vmin=-1, vmax=1, annot=True, cmap='BrBG')\n",
    "heatmap.set_title('Features Correlating with arrival delatey time', fontdict={'fontsize':12}, pad=16);"
   ]
  },
  {
   "source": [
    "# Model Building"
   ],
   "cell_type": "markdown",
   "metadata": {}
  },
  {
   "cell_type": "code",
   "execution_count": null,
   "metadata": {},
   "outputs": [],
   "source": [
    "import numpy as np\n",
    "\n",
    "#Import ML models t be used\n",
    "from sklearn.linear_model import LinearRegression\n",
    "#Libraries for model selection\n",
    "from sklearn.model_selection import train_test_split\n",
    "from sklearn.model_selection import ShuffleSplit\n",
    "from sklearn.model_selection import cross_val_score\n",
    "from sklearn.model_selection import GridSearchCV\n",
    "from sklearn.model_selection import RandomizedSearchCV\n",
    "from sklearn.model_selection import learning_curve\n",
    "from sklearn.model_selection import StratifiedKFold\n",
    "#Libraries for model evaluation\n",
    "from sklearn import metrics\n",
    "from sklearn.metrics import confusion_matrix\n",
    "from sklearn.metrics import plot_confusion_matrix\n",
    "from sklearn.metrics import classification_report\n",
    "from sklearn.metrics import roc_auc_score\n",
    "from sklearn.metrics import accuracy_score"
   ]
  },
  {
   "cell_type": "code",
   "execution_count": null,
   "metadata": {},
   "outputs": [],
   "source": [
    "def run_model(model, X_train, y_train, X_test, y_test, verbose=True, desc = 'No name model'):\n",
    "    if verbose == False:\n",
    "        model.fit(X_train,y_train, verbose=0)\n",
    "    else:\n",
    "        model.fit(X_train,y_train)\n",
    "        y_pred = model.predict(X_test)\n",
    "        print('Coefficients: ', model.coef_)\n",
    "        print('Variance score: {}'.format(model.score(X_test, y_test)))\n",
    "        ## setting plot style\n",
    "        plt.style.use('fivethirtyeight')\n",
    "        \n",
    "        ## plotting residual errors in training data\n",
    "        plt.scatter(model.predict(X_train), model.predict(X_train) - y_train,\n",
    "                    color = \"green\", s = 10, label = 'Train data')\n",
    "        \n",
    "        ## plotting residual errors in test data\n",
    "        plt.scatter(model.predict(X_test), model.predict(X_test) - y_test,\n",
    "                    color = \"blue\", s = 10, label = 'Test data')\n",
    "        \n",
    "        ## plotting line for zero residual error\n",
    "        plt.hlines(y = 0, xmin = 0, xmax = 50, linewidth = 2)\n",
    "        \n",
    "        ## plotting legend\n",
    "        plt.legend(loc = 'upper right')\n",
    "        \n",
    "        ## plot title\n",
    "        plt.title(\"Residual errors\")\n",
    "        \n",
    "        ## method call for showing the plot\n",
    "        plt.show()\n",
    "\n",
    "\n",
    "\n",
    "        #r_sq = model.score(X_train, y_train)\n",
    "        #model_acc = metrics.accuracy_score(y_test, y_pred )  # Model Accuracy, how often is the classifier correct?\n",
    "        #print(\"Score = {}\".format(r_sq)) \n",
    "        #print(X_test.shape,y_test.shape)\n",
    "        #plt.scatter(X_test, y_test,  color='gray')\n",
    "        #plt.plot(X_test, y_pred, color='red', linewidth=2)\n",
    "        #plt.show()"
   ]
  },
  {
   "cell_type": "code",
   "execution_count": null,
   "metadata": {},
   "outputs": [],
   "source": [
    "#Define initial model parameters\n",
    "cv_n_split = 3\n",
    "random_state = 42\n",
    "test_train_split = 0.25\n",
    "cv_iter = 5\n",
    "# Create empty list with models results\n",
    "model_results = {}"
   ]
  },
  {
   "cell_type": "code",
   "execution_count": null,
   "metadata": {},
   "outputs": [],
   "source": [
    "y = df_train.pop('arr_delay_new')\n",
    "X = df_train\n",
    "print(X.shape)\n",
    "print(y.shape)"
   ]
  },
  {
   "cell_type": "code",
   "execution_count": null,
   "metadata": {},
   "outputs": [],
   "source": [
    "X.dtypes"
   ]
  },
  {
   "cell_type": "code",
   "execution_count": null,
   "metadata": {},
   "outputs": [],
   "source": [
    "#split into raining and test\n",
    "X_train,X_test, y_train,y_test = train_test_split(X , y , random_state = random_state, shuffle = True, test_size = test_train_split)"
   ]
  },
  {
   "cell_type": "code",
   "execution_count": null,
   "metadata": {},
   "outputs": [],
   "source": [
    "print(X_train.shape,X_test.shape, y_train.shape,y_test.shape)"
   ]
  },
  {
   "cell_type": "code",
   "execution_count": null,
   "metadata": {},
   "outputs": [],
   "source": [
    "#Create Linear Regression model\n",
    "model_lr1 = LinearRegression()\n",
    "run_model(model_lr1, X_train, y_train, X_test, y_test)\n",
    "#model_lr1 = model_lr1.fit(X_train,y_train)"
   ]
  },
  {
   "cell_type": "code",
   "execution_count": null,
   "metadata": {},
   "outputs": [],
   "source": [
    " #Predict the response for test dataset\n",
    "y_pred = model_lr1.predict(X_test)\n",
    "# Model Accuracy, how often is the classifier correct?\n",
    "print(\"Accuracy:\",metrics.accuracy_score(y_test, y_pred))"
   ]
  },
  {
   "cell_type": "code",
   "execution_count": null,
   "metadata": {},
   "outputs": [],
   "source": [
    "r_sq = model.score(x, y)\n",
    "print('coefficient of determination:', r_sq)"
   ]
  },
  {
   "cell_type": "code",
   "execution_count": null,
   "metadata": {},
   "outputs": [],
   "source": [
    "import xgboost as xgb\n",
    "xg_reg = xgb.XGBRegressor(objective ='reg:linear', colsample_bytree = 0.3, learning_rate = 0.1,\n",
    "                max_depth = 5, alpha = 10, n_estimators = 10)\n",
    "xg_reg.fit(X_train,y_train)\n",
    "y_pred = xg_reg.predict(X_test)"
   ]
  }
 ],
 "metadata": {
  "kernelspec": {
   "name": "python3710jvsc74a57bd0df9440572eb606f9e8681692e07c753c8883ad880fdfa9121cfd05ecefba0f1e",
   "display_name": "Python 3.7.10 64-bit ('base': conda)"
  },
  "language_info": {
   "codemirror_mode": {
    "name": "ipython",
    "version": 3
   },
   "file_extension": ".py",
   "mimetype": "text/x-python",
   "name": "python",
   "nbconvert_exporter": "python",
   "pygments_lexer": "ipython3",
   "version": "3.7.10-final"
  }
 },
 "nbformat": 4,
 "nbformat_minor": 2
}