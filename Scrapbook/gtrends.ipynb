{
 "metadata": {
  "language_info": {
   "codemirror_mode": {
    "name": "ipython",
    "version": 3
   },
   "file_extension": ".py",
   "mimetype": "text/x-python",
   "name": "python",
   "nbconvert_exporter": "python",
   "pygments_lexer": "ipython3",
   "version": "3.7.6-final"
  },
  "orig_nbformat": 2,
  "kernelspec": {
   "name": "python3",
   "display_name": "Python 3.7.6 64-bit ('base': conda)",
   "metadata": {
    "interpreter": {
     "hash": "df9440572eb606f9e8681692e07c753c8883ad880fdfa9121cfd05ecefba0f1e"
    }
   }
  }
 },
 "nbformat": 4,
 "nbformat_minor": 2,
 "cells": [
  {
   "cell_type": "code",
   "execution_count": 1,
   "metadata": {},
   "outputs": [],
   "source": [
    "from pytrends.request import TrendReq\n"
   ]
  },
  {
   "cell_type": "code",
   "execution_count": 6,
   "metadata": {},
   "outputs": [],
   "source": [
    "pytrends = TrendReq(hl='en-US', tz=360)"
   ]
  },
  {
   "cell_type": "code",
   "execution_count": 52,
   "metadata": {},
   "outputs": [
    {
     "output_type": "error",
     "ename": "ResponseError",
     "evalue": "The request failed: Google returned a response with code 400.",
     "traceback": [
      "\u001b[0;31m---------------------------------------------------------------------------\u001b[0m",
      "\u001b[0;31mResponseError\u001b[0m                             Traceback (most recent call last)",
      "\u001b[0;32m<ipython-input-52-25a0f22c2d22>\u001b[0m in \u001b[0;36m<module>\u001b[0;34m\u001b[0m\n\u001b[1;32m      1\u001b[0m \u001b[0mkw_list\u001b[0m \u001b[0;34m=\u001b[0m \u001b[0;34m[\u001b[0m\u001b[0;34m\"Breast Cancer\"\u001b[0m\u001b[0;34m]\u001b[0m\u001b[0;34m\u001b[0m\u001b[0;34m\u001b[0m\u001b[0m\n\u001b[0;32m----> 2\u001b[0;31m \u001b[0my\u001b[0m \u001b[0;34m=\u001b[0m \u001b[0mpytrends\u001b[0m\u001b[0;34m.\u001b[0m\u001b[0mbuild_payload\u001b[0m\u001b[0;34m(\u001b[0m\u001b[0mkw_list\u001b[0m\u001b[0;34m,\u001b[0m \u001b[0mcat\u001b[0m\u001b[0;34m=\u001b[0m\u001b[0;36m0\u001b[0m\u001b[0;34m,\u001b[0m \u001b[0mtimeframe\u001b[0m\u001b[0;34m=\u001b[0m\u001b[0;34m'today 5-y'\u001b[0m\u001b[0;34m,\u001b[0m \u001b[0mgeo\u001b[0m\u001b[0;34m=\u001b[0m\u001b[0;34m''\u001b[0m\u001b[0;34m,\u001b[0m \u001b[0mgprop\u001b[0m\u001b[0;34m=\u001b[0m\u001b[0;34m''\u001b[0m\u001b[0;34m)\u001b[0m\u001b[0;34m\u001b[0m\u001b[0;34m\u001b[0m\u001b[0m\n\u001b[0m",
      "\u001b[0;32m~/opt/anaconda3/lib/python3.7/site-packages/pytrends/request.py\u001b[0m in \u001b[0;36mbuild_payload\u001b[0;34m(self, kw_list, cat, timeframe, geo, gprop)\u001b[0m\n\u001b[1;32m    167\u001b[0m         \u001b[0mself\u001b[0m\u001b[0;34m.\u001b[0m\u001b[0mtoken_payload\u001b[0m\u001b[0;34m[\u001b[0m\u001b[0;34m'req'\u001b[0m\u001b[0;34m]\u001b[0m \u001b[0;34m=\u001b[0m \u001b[0mjson\u001b[0m\u001b[0;34m.\u001b[0m\u001b[0mdumps\u001b[0m\u001b[0;34m(\u001b[0m\u001b[0mself\u001b[0m\u001b[0;34m.\u001b[0m\u001b[0mtoken_payload\u001b[0m\u001b[0;34m[\u001b[0m\u001b[0;34m'req'\u001b[0m\u001b[0;34m]\u001b[0m\u001b[0;34m)\u001b[0m\u001b[0;34m\u001b[0m\u001b[0;34m\u001b[0m\u001b[0m\n\u001b[1;32m    168\u001b[0m         \u001b[0;31m# get tokens\u001b[0m\u001b[0;34m\u001b[0m\u001b[0;34m\u001b[0m\u001b[0;34m\u001b[0m\u001b[0m\n\u001b[0;32m--> 169\u001b[0;31m         \u001b[0mself\u001b[0m\u001b[0;34m.\u001b[0m\u001b[0m_tokens\u001b[0m\u001b[0;34m(\u001b[0m\u001b[0;34m)\u001b[0m\u001b[0;34m\u001b[0m\u001b[0;34m\u001b[0m\u001b[0m\n\u001b[0m\u001b[1;32m    170\u001b[0m         \u001b[0;32mreturn\u001b[0m\u001b[0;34m\u001b[0m\u001b[0;34m\u001b[0m\u001b[0m\n\u001b[1;32m    171\u001b[0m \u001b[0;34m\u001b[0m\u001b[0m\n",
      "\u001b[0;32m~/opt/anaconda3/lib/python3.7/site-packages/pytrends/request.py\u001b[0m in \u001b[0;36m_tokens\u001b[0;34m(self)\u001b[0m\n\u001b[1;32m    177\u001b[0m             \u001b[0mmethod\u001b[0m\u001b[0;34m=\u001b[0m\u001b[0mTrendReq\u001b[0m\u001b[0;34m.\u001b[0m\u001b[0mGET_METHOD\u001b[0m\u001b[0;34m,\u001b[0m\u001b[0;34m\u001b[0m\u001b[0;34m\u001b[0m\u001b[0m\n\u001b[1;32m    178\u001b[0m             \u001b[0mparams\u001b[0m\u001b[0;34m=\u001b[0m\u001b[0mself\u001b[0m\u001b[0;34m.\u001b[0m\u001b[0mtoken_payload\u001b[0m\u001b[0;34m,\u001b[0m\u001b[0;34m\u001b[0m\u001b[0;34m\u001b[0m\u001b[0m\n\u001b[0;32m--> 179\u001b[0;31m             \u001b[0mtrim_chars\u001b[0m\u001b[0;34m=\u001b[0m\u001b[0;36m4\u001b[0m\u001b[0;34m,\u001b[0m\u001b[0;34m\u001b[0m\u001b[0;34m\u001b[0m\u001b[0m\n\u001b[0m\u001b[1;32m    180\u001b[0m         )['widgets']\n\u001b[1;32m    181\u001b[0m         \u001b[0;31m# order of the json matters...\u001b[0m\u001b[0;34m\u001b[0m\u001b[0;34m\u001b[0m\u001b[0;34m\u001b[0m\u001b[0m\n",
      "\u001b[0;32m~/opt/anaconda3/lib/python3.7/site-packages/pytrends/request.py\u001b[0m in \u001b[0;36m_get_data\u001b[0;34m(self, url, method, trim_chars, **kwargs)\u001b[0m\n\u001b[1;32m    146\u001b[0m                 \u001b[0;34m'The request failed: Google returned a '\u001b[0m\u001b[0;34m\u001b[0m\u001b[0;34m\u001b[0m\u001b[0m\n\u001b[1;32m    147\u001b[0m                 \u001b[0;34m'response with code {0}.'\u001b[0m\u001b[0;34m.\u001b[0m\u001b[0mformat\u001b[0m\u001b[0;34m(\u001b[0m\u001b[0mresponse\u001b[0m\u001b[0;34m.\u001b[0m\u001b[0mstatus_code\u001b[0m\u001b[0;34m)\u001b[0m\u001b[0;34m,\u001b[0m\u001b[0;34m\u001b[0m\u001b[0;34m\u001b[0m\u001b[0m\n\u001b[0;32m--> 148\u001b[0;31m                 response=response)\n\u001b[0m\u001b[1;32m    149\u001b[0m \u001b[0;34m\u001b[0m\u001b[0m\n\u001b[1;32m    150\u001b[0m     def build_payload(self, kw_list, cat=0, timeframe='today 5-y', geo='',\n",
      "\u001b[0;31mResponseError\u001b[0m: The request failed: Google returned a response with code 400."
     ]
    }
   ],
   "source": [
    "kw_list = [\"Breast Cancer\"]\n",
    "y = pytrends.build_payload(kw_list, cat=0, timeframe='today 5-y', geo='', gprop='')"
   ]
  },
  {
   "cell_type": "code",
   "execution_count": 13,
   "metadata": {},
   "outputs": [],
   "source": [
    "data = pytrends.interest_over_time()"
   ]
  },
  {
   "cell_type": "code",
   "execution_count": 14,
   "metadata": {},
   "outputs": [
    {
     "output_type": "execute_result",
     "data": {
      "text/plain": [
       "            Breast Cancer isPartial\n",
       "date                               \n",
       "2016-03-27             43     False\n",
       "2016-04-03             42     False\n",
       "2016-04-10             45     False\n",
       "2016-04-17             41     False\n",
       "2016-04-24             42     False\n",
       "...                   ...       ...\n",
       "2021-02-14             37     False\n",
       "2021-02-21             43     False\n",
       "2021-02-28             41     False\n",
       "2021-03-07             41     False\n",
       "2021-03-14             41      True\n",
       "\n",
       "[260 rows x 2 columns]"
      ],
      "text/html": "<div>\n<style scoped>\n    .dataframe tbody tr th:only-of-type {\n        vertical-align: middle;\n    }\n\n    .dataframe tbody tr th {\n        vertical-align: top;\n    }\n\n    .dataframe thead th {\n        text-align: right;\n    }\n</style>\n<table border=\"1\" class=\"dataframe\">\n  <thead>\n    <tr style=\"text-align: right;\">\n      <th></th>\n      <th>Breast Cancer</th>\n      <th>isPartial</th>\n    </tr>\n    <tr>\n      <th>date</th>\n      <th></th>\n      <th></th>\n    </tr>\n  </thead>\n  <tbody>\n    <tr>\n      <th>2016-03-27</th>\n      <td>43</td>\n      <td>False</td>\n    </tr>\n    <tr>\n      <th>2016-04-03</th>\n      <td>42</td>\n      <td>False</td>\n    </tr>\n    <tr>\n      <th>2016-04-10</th>\n      <td>45</td>\n      <td>False</td>\n    </tr>\n    <tr>\n      <th>2016-04-17</th>\n      <td>41</td>\n      <td>False</td>\n    </tr>\n    <tr>\n      <th>2016-04-24</th>\n      <td>42</td>\n      <td>False</td>\n    </tr>\n    <tr>\n      <th>...</th>\n      <td>...</td>\n      <td>...</td>\n    </tr>\n    <tr>\n      <th>2021-02-14</th>\n      <td>37</td>\n      <td>False</td>\n    </tr>\n    <tr>\n      <th>2021-02-21</th>\n      <td>43</td>\n      <td>False</td>\n    </tr>\n    <tr>\n      <th>2021-02-28</th>\n      <td>41</td>\n      <td>False</td>\n    </tr>\n    <tr>\n      <th>2021-03-07</th>\n      <td>41</td>\n      <td>False</td>\n    </tr>\n    <tr>\n      <th>2021-03-14</th>\n      <td>41</td>\n      <td>True</td>\n    </tr>\n  </tbody>\n</table>\n<p>260 rows × 2 columns</p>\n</div>"
     },
     "metadata": {},
     "execution_count": 14
    }
   ],
   "source": [
    "data"
   ]
  },
  {
   "cell_type": "code",
   "execution_count": 15,
   "metadata": {},
   "outputs": [
    {
     "output_type": "stream",
     "name": "stdout",
     "text": [
      "HTTPSConnectionPool(host='trends.google.com', port=443): Read timed out. (read timeout=5)\n"
     ]
    },
    {
     "output_type": "execute_result",
     "data": {
      "text/plain": [
       "                     Breast Cancer  isPartial\n",
       "date                                         \n",
       "2019-01-01 00:00:00              0      False\n",
       "2019-01-01 01:00:00              0      False\n",
       "2019-01-01 02:00:00              0      False\n",
       "2019-01-01 03:00:00              0      False\n",
       "2019-01-01 04:00:00              0      False\n",
       "...                            ...        ...\n",
       "2019-12-30 20:00:00             89      False\n",
       "2019-12-30 21:00:00             90      False\n",
       "2019-12-30 22:00:00             92      False\n",
       "2019-12-30 23:00:00             95      False\n",
       "2019-12-31 00:00:00             98      False\n",
       "\n",
       "[8788 rows x 2 columns]"
      ],
      "text/html": "<div>\n<style scoped>\n    .dataframe tbody tr th:only-of-type {\n        vertical-align: middle;\n    }\n\n    .dataframe tbody tr th {\n        vertical-align: top;\n    }\n\n    .dataframe thead th {\n        text-align: right;\n    }\n</style>\n<table border=\"1\" class=\"dataframe\">\n  <thead>\n    <tr style=\"text-align: right;\">\n      <th></th>\n      <th>Breast Cancer</th>\n      <th>isPartial</th>\n    </tr>\n    <tr>\n      <th>date</th>\n      <th></th>\n      <th></th>\n    </tr>\n  </thead>\n  <tbody>\n    <tr>\n      <th>2019-01-01 00:00:00</th>\n      <td>0</td>\n      <td>False</td>\n    </tr>\n    <tr>\n      <th>2019-01-01 01:00:00</th>\n      <td>0</td>\n      <td>False</td>\n    </tr>\n    <tr>\n      <th>2019-01-01 02:00:00</th>\n      <td>0</td>\n      <td>False</td>\n    </tr>\n    <tr>\n      <th>2019-01-01 03:00:00</th>\n      <td>0</td>\n      <td>False</td>\n    </tr>\n    <tr>\n      <th>2019-01-01 04:00:00</th>\n      <td>0</td>\n      <td>False</td>\n    </tr>\n    <tr>\n      <th>...</th>\n      <td>...</td>\n      <td>...</td>\n    </tr>\n    <tr>\n      <th>2019-12-30 20:00:00</th>\n      <td>89</td>\n      <td>False</td>\n    </tr>\n    <tr>\n      <th>2019-12-30 21:00:00</th>\n      <td>90</td>\n      <td>False</td>\n    </tr>\n    <tr>\n      <th>2019-12-30 22:00:00</th>\n      <td>92</td>\n      <td>False</td>\n    </tr>\n    <tr>\n      <th>2019-12-30 23:00:00</th>\n      <td>95</td>\n      <td>False</td>\n    </tr>\n    <tr>\n      <th>2019-12-31 00:00:00</th>\n      <td>98</td>\n      <td>False</td>\n    </tr>\n  </tbody>\n</table>\n<p>8788 rows × 2 columns</p>\n</div>"
     },
     "metadata": {},
     "execution_count": 15
    }
   ],
   "source": [
    "#x = pytrends.get_historical_interest(kw_list, year_start=2019, month_start=1, day_start=1, hour_start=0, year_end=2019, month_end=12, day_end=31, hour_end=0, cat=0, geo='', gprop='', sleep=0)\n",
    "x = pytrends.get_historical_interest(kw_list, year_start=2019,year_end=2019, month_end=12, day_end=31, hour_end=0, cat=0, geo='', gprop='', sleep=0)\n",
    "x\n"
   ]
  },
  {
   "cell_type": "code",
   "execution_count": 43,
   "metadata": {},
   "outputs": [],
   "source": [
    "country = pytrends.interest_by_region(resolution='COUNTRY', inc_low_vol=False, inc_geo_code=False)"
   ]
  },
  {
   "cell_type": "code",
   "execution_count": 44,
   "metadata": {},
   "outputs": [],
   "source": [
    "country.reset_index(inplace=True)"
   ]
  },
  {
   "cell_type": "code",
   "execution_count": 45,
   "metadata": {},
   "outputs": [
    {
     "output_type": "execute_result",
     "data": {
      "text/plain": [
       "geoName          object\n",
       "Breast Cancer     int64\n",
       "dtype: object"
      ]
     },
     "metadata": {},
     "execution_count": 45
    }
   ],
   "source": [
    "country.dtypes"
   ]
  },
  {
   "cell_type": "code",
   "execution_count": 46,
   "metadata": {},
   "outputs": [
    {
     "output_type": "execute_result",
     "data": {
      "text/plain": [
       "                 geoName  Breast Cancer\n",
       "0            Afghanistan              0\n",
       "1                Albania              0\n",
       "2                Algeria              0\n",
       "3         American Samoa              0\n",
       "4                Andorra              0\n",
       "5                 Angola              0\n",
       "6               Anguilla              0\n",
       "7             Antarctica              0\n",
       "8      Antigua & Barbuda              0\n",
       "9              Argentina              3\n",
       "10               Armenia              0\n",
       "11                 Aruba              0\n",
       "12             Australia             76\n",
       "13               Austria              0\n",
       "14            Azerbaijan              0\n",
       "15               Bahamas              0\n",
       "16               Bahrain              0\n",
       "17            Bangladesh             25\n",
       "18              Barbados              0\n",
       "19               Belarus              0\n",
       "20               Belgium              8\n",
       "21                Belize              0\n",
       "22                 Benin              0\n",
       "23               Bermuda              0\n",
       "24                Bhutan              0\n",
       "25               Bolivia              0\n",
       "26  Bosnia & Herzegovina              0\n",
       "27              Botswana              0\n",
       "28         Bouvet Island              0\n",
       "29                Brazil              1"
      ],
      "text/html": "<div>\n<style scoped>\n    .dataframe tbody tr th:only-of-type {\n        vertical-align: middle;\n    }\n\n    .dataframe tbody tr th {\n        vertical-align: top;\n    }\n\n    .dataframe thead th {\n        text-align: right;\n    }\n</style>\n<table border=\"1\" class=\"dataframe\">\n  <thead>\n    <tr style=\"text-align: right;\">\n      <th></th>\n      <th>geoName</th>\n      <th>Breast Cancer</th>\n    </tr>\n  </thead>\n  <tbody>\n    <tr>\n      <th>0</th>\n      <td>Afghanistan</td>\n      <td>0</td>\n    </tr>\n    <tr>\n      <th>1</th>\n      <td>Albania</td>\n      <td>0</td>\n    </tr>\n    <tr>\n      <th>2</th>\n      <td>Algeria</td>\n      <td>0</td>\n    </tr>\n    <tr>\n      <th>3</th>\n      <td>American Samoa</td>\n      <td>0</td>\n    </tr>\n    <tr>\n      <th>4</th>\n      <td>Andorra</td>\n      <td>0</td>\n    </tr>\n    <tr>\n      <th>5</th>\n      <td>Angola</td>\n      <td>0</td>\n    </tr>\n    <tr>\n      <th>6</th>\n      <td>Anguilla</td>\n      <td>0</td>\n    </tr>\n    <tr>\n      <th>7</th>\n      <td>Antarctica</td>\n      <td>0</td>\n    </tr>\n    <tr>\n      <th>8</th>\n      <td>Antigua &amp; Barbuda</td>\n      <td>0</td>\n    </tr>\n    <tr>\n      <th>9</th>\n      <td>Argentina</td>\n      <td>3</td>\n    </tr>\n    <tr>\n      <th>10</th>\n      <td>Armenia</td>\n      <td>0</td>\n    </tr>\n    <tr>\n      <th>11</th>\n      <td>Aruba</td>\n      <td>0</td>\n    </tr>\n    <tr>\n      <th>12</th>\n      <td>Australia</td>\n      <td>76</td>\n    </tr>\n    <tr>\n      <th>13</th>\n      <td>Austria</td>\n      <td>0</td>\n    </tr>\n    <tr>\n      <th>14</th>\n      <td>Azerbaijan</td>\n      <td>0</td>\n    </tr>\n    <tr>\n      <th>15</th>\n      <td>Bahamas</td>\n      <td>0</td>\n    </tr>\n    <tr>\n      <th>16</th>\n      <td>Bahrain</td>\n      <td>0</td>\n    </tr>\n    <tr>\n      <th>17</th>\n      <td>Bangladesh</td>\n      <td>25</td>\n    </tr>\n    <tr>\n      <th>18</th>\n      <td>Barbados</td>\n      <td>0</td>\n    </tr>\n    <tr>\n      <th>19</th>\n      <td>Belarus</td>\n      <td>0</td>\n    </tr>\n    <tr>\n      <th>20</th>\n      <td>Belgium</td>\n      <td>8</td>\n    </tr>\n    <tr>\n      <th>21</th>\n      <td>Belize</td>\n      <td>0</td>\n    </tr>\n    <tr>\n      <th>22</th>\n      <td>Benin</td>\n      <td>0</td>\n    </tr>\n    <tr>\n      <th>23</th>\n      <td>Bermuda</td>\n      <td>0</td>\n    </tr>\n    <tr>\n      <th>24</th>\n      <td>Bhutan</td>\n      <td>0</td>\n    </tr>\n    <tr>\n      <th>25</th>\n      <td>Bolivia</td>\n      <td>0</td>\n    </tr>\n    <tr>\n      <th>26</th>\n      <td>Bosnia &amp; Herzegovina</td>\n      <td>0</td>\n    </tr>\n    <tr>\n      <th>27</th>\n      <td>Botswana</td>\n      <td>0</td>\n    </tr>\n    <tr>\n      <th>28</th>\n      <td>Bouvet Island</td>\n      <td>0</td>\n    </tr>\n    <tr>\n      <th>29</th>\n      <td>Brazil</td>\n      <td>1</td>\n    </tr>\n  </tbody>\n</table>\n</div>"
     },
     "metadata": {},
     "execution_count": 46
    }
   ],
   "source": [
    "country.head(30)"
   ]
  },
  {
   "cell_type": "code",
   "execution_count": 47,
   "metadata": {},
   "outputs": [
    {
     "output_type": "execute_result",
     "data": {
      "text/plain": [
       "                  geoName  Breast Cancer\n",
       "110               Jamaica            100\n",
       "236        United Kingdom             94\n",
       "237         United States             93\n",
       "84                  Ghana             86\n",
       "106               Ireland             84\n",
       "12              Australia             76\n",
       "174           Philippines             74\n",
       "159               Nigeria             74\n",
       "38                 Canada             69\n",
       "115                 Kenya             66\n",
       "156           New Zealand             64\n",
       "191             Singapore             64\n",
       "197          South Africa             61\n",
       "202             Sri Lanka             54\n",
       "167              Pakistan             52\n",
       "153                 Nepal             50\n",
       "122               Lebanon             47\n",
       "132              Malaysia             45\n",
       "235  United Arab Emirates             42\n",
       "102                 India             32\n",
       "99              Hong Kong             28\n",
       "17             Bangladesh             25\n",
       "199           South Korea             23\n",
       "65                  Egypt             22\n",
       "108                Israel             16\n",
       "217                Taiwan             15\n",
       "186          Saudi Arabia             15\n",
       "243               Vietnam             13\n",
       "177              Portugal             11\n",
       "165                Norway             11"
      ],
      "text/html": "<div>\n<style scoped>\n    .dataframe tbody tr th:only-of-type {\n        vertical-align: middle;\n    }\n\n    .dataframe tbody tr th {\n        vertical-align: top;\n    }\n\n    .dataframe thead th {\n        text-align: right;\n    }\n</style>\n<table border=\"1\" class=\"dataframe\">\n  <thead>\n    <tr style=\"text-align: right;\">\n      <th></th>\n      <th>geoName</th>\n      <th>Breast Cancer</th>\n    </tr>\n  </thead>\n  <tbody>\n    <tr>\n      <th>110</th>\n      <td>Jamaica</td>\n      <td>100</td>\n    </tr>\n    <tr>\n      <th>236</th>\n      <td>United Kingdom</td>\n      <td>94</td>\n    </tr>\n    <tr>\n      <th>237</th>\n      <td>United States</td>\n      <td>93</td>\n    </tr>\n    <tr>\n      <th>84</th>\n      <td>Ghana</td>\n      <td>86</td>\n    </tr>\n    <tr>\n      <th>106</th>\n      <td>Ireland</td>\n      <td>84</td>\n    </tr>\n    <tr>\n      <th>12</th>\n      <td>Australia</td>\n      <td>76</td>\n    </tr>\n    <tr>\n      <th>174</th>\n      <td>Philippines</td>\n      <td>74</td>\n    </tr>\n    <tr>\n      <th>159</th>\n      <td>Nigeria</td>\n      <td>74</td>\n    </tr>\n    <tr>\n      <th>38</th>\n      <td>Canada</td>\n      <td>69</td>\n    </tr>\n    <tr>\n      <th>115</th>\n      <td>Kenya</td>\n      <td>66</td>\n    </tr>\n    <tr>\n      <th>156</th>\n      <td>New Zealand</td>\n      <td>64</td>\n    </tr>\n    <tr>\n      <th>191</th>\n      <td>Singapore</td>\n      <td>64</td>\n    </tr>\n    <tr>\n      <th>197</th>\n      <td>South Africa</td>\n      <td>61</td>\n    </tr>\n    <tr>\n      <th>202</th>\n      <td>Sri Lanka</td>\n      <td>54</td>\n    </tr>\n    <tr>\n      <th>167</th>\n      <td>Pakistan</td>\n      <td>52</td>\n    </tr>\n    <tr>\n      <th>153</th>\n      <td>Nepal</td>\n      <td>50</td>\n    </tr>\n    <tr>\n      <th>122</th>\n      <td>Lebanon</td>\n      <td>47</td>\n    </tr>\n    <tr>\n      <th>132</th>\n      <td>Malaysia</td>\n      <td>45</td>\n    </tr>\n    <tr>\n      <th>235</th>\n      <td>United Arab Emirates</td>\n      <td>42</td>\n    </tr>\n    <tr>\n      <th>102</th>\n      <td>India</td>\n      <td>32</td>\n    </tr>\n    <tr>\n      <th>99</th>\n      <td>Hong Kong</td>\n      <td>28</td>\n    </tr>\n    <tr>\n      <th>17</th>\n      <td>Bangladesh</td>\n      <td>25</td>\n    </tr>\n    <tr>\n      <th>199</th>\n      <td>South Korea</td>\n      <td>23</td>\n    </tr>\n    <tr>\n      <th>65</th>\n      <td>Egypt</td>\n      <td>22</td>\n    </tr>\n    <tr>\n      <th>108</th>\n      <td>Israel</td>\n      <td>16</td>\n    </tr>\n    <tr>\n      <th>217</th>\n      <td>Taiwan</td>\n      <td>15</td>\n    </tr>\n    <tr>\n      <th>186</th>\n      <td>Saudi Arabia</td>\n      <td>15</td>\n    </tr>\n    <tr>\n      <th>243</th>\n      <td>Vietnam</td>\n      <td>13</td>\n    </tr>\n    <tr>\n      <th>177</th>\n      <td>Portugal</td>\n      <td>11</td>\n    </tr>\n    <tr>\n      <th>165</th>\n      <td>Norway</td>\n      <td>11</td>\n    </tr>\n  </tbody>\n</table>\n</div>"
     },
     "metadata": {},
     "execution_count": 47
    }
   ],
   "source": [
    "country.sort_values(by=['Breast Cancer'], ascending=False).head(30)"
   ]
  },
  {
   "cell_type": "code",
   "execution_count": null,
   "metadata": {},
   "outputs": [],
   "source": []
  }
 ]
}