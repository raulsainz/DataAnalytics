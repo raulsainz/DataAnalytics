{
 "metadata": {
  "language_info": {
   "codemirror_mode": {
    "name": "ipython",
    "version": 3
   },
   "file_extension": ".py",
   "mimetype": "text/x-python",
   "name": "python",
   "nbconvert_exporter": "python",
   "pygments_lexer": "ipython3",
   "version": "3.7.10-final"
  },
  "orig_nbformat": 2,
  "kernelspec": {
   "name": "python3710jvsc74a57bd0df9440572eb606f9e8681692e07c753c8883ad880fdfa9121cfd05ecefba0f1e",
   "display_name": "Python 3.7.10 64-bit ('base': conda)"
  }
 },
 "nbformat": 4,
 "nbformat_minor": 2,
 "cells": [
  {
   "cell_type": "code",
   "execution_count": 32,
   "metadata": {},
   "outputs": [
    {
     "output_type": "stream",
     "name": "stderr",
     "text": [
      "/Users/raulsainz/opt/anaconda3/lib/python3.7/site-packages/urllib3/connectionpool.py:1020: InsecureRequestWarning: Unverified HTTPS request is being made to host 'icdaccessmanagement.who.int'. Adding certificate verification is strongly advised. See: https://urllib3.readthedocs.io/en/latest/advanced-usage.html#ssl-warnings\n",
      "  InsecureRequestWarning,\n",
      "/Users/raulsainz/opt/anaconda3/lib/python3.7/site-packages/urllib3/connectionpool.py:1020: InsecureRequestWarning: Unverified HTTPS request is being made to host 'id.who.int'. Adding certificate verification is strongly advised. See: https://urllib3.readthedocs.io/en/latest/advanced-usage.html#ssl-warnings\n",
      "  InsecureRequestWarning,\n",
      "{\"@context\":\"http://id.who.int/icd/contexts/contextForTopLevel.json\",\"@id\":\"http://id.who.int/icd/entity\",\"title\":{\"@language\":\"en\",\"@value\":\"International Classification of Diseases 11th Revision\"},\"releaseId\":\"2020-09\",\"releaseDate\":\"2020-09-15\",\"child\":[\"http://id.who.int/icd/entity/1435254666\",\"http://id.who.int/icd/entity/1630407678\",\"http://id.who.int/icd/entity/1766440644\",\"http://id.who.int/icd/entity/1954798891\",\"http://id.who.int/icd/entity/21500692\",\"http://id.who.int/icd/entity/334423054\",\"http://id.who.int/icd/entity/274880002\",\"http://id.who.int/icd/entity/1296093776\",\"http://id.who.int/icd/entity/868865918\",\"http://id.who.int/icd/entity/1218729044\",\"http://id.who.int/icd/entity/426429380\",\"http://id.who.int/icd/entity/197934298\",\"http://id.who.int/icd/entity/1256772020\",\"http://id.who.int/icd/entity/1639304259\",\"http://id.who.int/icd/entity/1473673350\",\"http://id.who.int/icd/entity/30659757\",\"http://id.who.int/icd/entity/577470983\",\"http://id.who.int/icd/entity/714000734\",\"http://id.who.int/icd/entity/1306203631\",\"http://id.who.int/icd/entity/223744320\",\"http://id.who.int/icd/entity/1843895818\",\"http://id.who.int/icd/entity/435227771\",\"http://id.who.int/icd/entity/850137482\",\"http://id.who.int/icd/entity/1249056269\",\"http://id.who.int/icd/entity/1596590595\",\"http://id.who.int/icd/entity/718687701\",\"http://id.who.int/icd/entity/231358748\",\"http://id.who.int/icd/entity/979408586\",\"http://id.who.int/icd/entity/1801349023\"],\"browserUrl\":\"NA\"}\n"
     ]
    }
   ],
   "source": [
    "import requests\n",
    "\n",
    "token_endpoint = 'https://icdaccessmanagement.who.int/connect/token'\n",
    "client_id = '04d19cc4-f7fe-4efa-a2a4-114407a4590e_1d81f3ed-6d16-4164-8aaa-cf53d3f3674f'\n",
    "client_secret = 'UZqwmhaa94sTJ0Qc00AwRSgznNUA8TbaI0c5jbK7m5A='\n",
    "scope = 'icdapi_access'\n",
    "grant_type = 'client_credentials'\n",
    "\n",
    "\n",
    "# get the OAUTH2 token\n",
    "\n",
    "# set data to post\n",
    "payload = {'client_id': client_id, \n",
    "\t   \t   'client_secret': client_secret, \n",
    "           'scope': scope, \n",
    "           'grant_type': grant_type}\n",
    "           \n",
    "# make request\n",
    "r = requests.post(token_endpoint, data=payload, verify=False).json()\n",
    "token = r['access_token']\n",
    "\n",
    "\n",
    "# access ICD API\n",
    "\n",
    "uri = 'https://id.who.int/icd/entity'\n",
    "\n",
    "# HTTP header fields to set\n",
    "headers = {'Authorization':  'Bearer '+token, \n",
    "           'Accept': 'application/json', \n",
    "           'Accept-Language': 'en',\n",
    "\t   'API-Version': 'v2'}\n",
    "           \n",
    "# make request           \n",
    "r = requests.get(uri, headers=headers, verify=False)\n",
    "\n",
    "# print the result\n",
    "print (r.text)\t\t\t"
   ]
  },
  {
   "cell_type": "code",
   "execution_count": 33,
   "metadata": {},
   "outputs": [
    {
     "output_type": "stream",
     "name": "stderr",
     "text": [
      "/Users/raulsainz/opt/anaconda3/lib/python3.7/site-packages/urllib3/connectionpool.py:1020: InsecureRequestWarning: Unverified HTTPS request is being made to host 'id.who.int'. Adding certificate verification is strongly advised. See: https://urllib3.readthedocs.io/en/latest/advanced-usage.html#ssl-warnings\n",
      "  InsecureRequestWarning,\n",
      "Requested resource could not be found\n"
     ]
    }
   ],
   "source": [
    "\n",
    "\n",
    "uri = 'https://id.who.int/icd/release/10/Y34-Y84'\n",
    "\n",
    "# HTTP header fields to set\n",
    "headers = {'Authorization':  'Bearer '+token, \n",
    "           'Accept': 'application/json', \n",
    "           'Accept-Language': 'en',\n",
    "\t   'API-Version': 'v2'}\n",
    "           \n",
    "# make request           \n",
    "r = requests.get(uri, headers=headers, verify=False)\n",
    "\n",
    "# print the result\n",
    "print (r.text)\t"
   ]
  },
  {
   "cell_type": "code",
   "execution_count": 34,
   "metadata": {},
   "outputs": [
    {
     "output_type": "execute_result",
     "data": {
      "text/plain": [
       "404"
      ]
     },
     "metadata": {},
     "execution_count": 34
    }
   ],
   "source": [
    "r.status_code"
   ]
  },
  {
   "cell_type": "code",
   "execution_count": 17,
   "metadata": {},
   "outputs": [],
   "source": [
    "x =r.json()"
   ]
  },
  {
   "cell_type": "code",
   "execution_count": 7,
   "metadata": {},
   "outputs": [
    {
     "output_type": "execute_result",
     "data": {
      "text/plain": [
       "{'@language': 'en', '@value': 'Rickettsioses'}"
      ]
     },
     "metadata": {},
     "execution_count": 7
    }
   ],
   "source": [
    "x['title']"
   ]
  },
  {
   "cell_type": "code",
   "execution_count": 10,
   "metadata": {},
   "outputs": [
    {
     "output_type": "execute_result",
     "data": {
      "text/plain": [
       "'Rickettsioses'"
      ]
     },
     "metadata": {},
     "execution_count": 10
    }
   ],
   "source": [
    "x['title']['@value']"
   ]
  },
  {
   "cell_type": "code",
   "execution_count": 35,
   "metadata": {},
   "outputs": [
    {
     "output_type": "stream",
     "name": "stderr",
     "text": [
      "/Users/raulsainz/opt/anaconda3/lib/python3.7/site-packages/urllib3/connectionpool.py:1020: InsecureRequestWarning: Unverified HTTPS request is being made to host 'id.who.int'. Adding certificate verification is strongly advised. See: https://urllib3.readthedocs.io/en/latest/advanced-usage.html#ssl-warnings\n",
      "  InsecureRequestWarning,\n",
      "{\"@context\":\"http://id.who.int/icd/contexts/contextForMultiVersion.json\"\n"
     ]
    }
   ],
   "source": [
    "\n",
    "\n",
    "uri = 'https://id.who.int/icd/release/10/A90-A99'\n",
    "\n",
    "# HTTP header fields to set\n",
    "headers = {'Authorization':  'Bearer '+token, \n",
    "           'Accept': 'application/json', \n",
    "           'Accept-Language': 'en',\n",
    "\t   'API-Version': 'v2'}\n",
    "           \n",
    "# make request           \n",
    "r = requests.get(uri, headers=headers, verify=False)\n",
    "\n",
    "# print the result\n",
    "print (r.text)\t"
   ]
  },
  {
   "cell_type": "code",
   "execution_count": 36,
   "metadata": {},
   "outputs": [
    {
     "output_type": "execute_result",
     "data": {
      "text/plain": [
       "200"
      ]
     },
     "metadata": {},
     "execution_count": 36
    }
   ],
   "source": [
    "r.status_code"
   ]
  },
  {
   "cell_type": "code",
   "execution_count": 22,
   "metadata": {},
   "outputs": [],
   "source": [
    "import pandas as pd \n",
    "test = pd.Series([\n",
    "    \"https://www.cosmopolitan.com/entertainment/tv/a46533/\",\n",
    "    \"https://www.bazaar.com/entertainment/tv/a46533/\"])\n",
    "test = test.str[:-1]"
   ]
  },
  {
   "cell_type": "code",
   "execution_count": 27,
   "metadata": {},
   "outputs": [
    {
     "output_type": "execute_result",
     "data": {
      "text/plain": [
       "'https://www.cosmopolitan.com/entertainment/tv/a46533'"
      ]
     },
     "metadata": {},
     "execution_count": 27
    }
   ],
   "source": [
    "test[0]"
   ]
  },
  {
   "cell_type": "code",
   "execution_count": 31,
   "metadata": {},
   "outputs": [
    {
     "output_type": "stream",
     "name": "stdout",
     "text": [
      "401\n"
     ]
    }
   ],
   "source": [
    "print(requests.codes.unauthorized)"
   ]
  },
  {
   "cell_type": "code",
   "execution_count": null,
   "metadata": {},
   "outputs": [],
   "source": [
    "df_icd_chapters\n"
   ]
  },
  {
   "cell_type": "code",
   "execution_count": null,
   "metadata": {},
   "outputs": [],
   "source": []
  },
  {
   "cell_type": "code",
   "execution_count": null,
   "metadata": {},
   "outputs": [],
   "source": []
  },
  {
   "cell_type": "code",
   "execution_count": null,
   "metadata": {},
   "outputs": [],
   "source": [
    "collection = mongo.getMongoCollection(dbname,collname) # Get mongo collection to perform operations\n",
    "column_merge = { \n",
    "    'query' : ['capitulo' , 'grupo'],\n",
    "    'value' : 'icd10_group'\n",
    "    } \n",
    "df_icd_groups.apply(lambda row: mongo.mergeColumn(collection,column_merge,row),axis=1)\n",
    "mongo.getDBStatistics(dbname)"
   ]
  },
  {
   "cell_type": "code",
   "execution_count": null,
   "metadata": {},
   "outputs": [],
   "source": [
    "collection = mongo.getMongoCollection(dbname,collname) # Get mongo collection to perform operations\n",
    "column_merge = { \n",
    "    'query' : ['capitulo'],\n",
    "    'value' : 'icd10_chapter'\n",
    "    } \n",
    "df_icd_chapters.apply(lambda row: mongo.mergeColumn(collection,column_merge,row),axis=1)\n",
    "mongo.getDBStatistics(dbname)"
   ]
  },
  {
   "cell_type": "code",
   "execution_count": null,
   "metadata": {},
   "outputs": [],
   "source": [
    "#load the translated csv in caise of API  failiure\n",
    "#The translation API has a limit of call's per time frame, after multiple calls in a short period of time it may return the untraslated text with no warning, to deal with this a translated CSV is available and loaded to prevent issues when running the Notebook in Project revision\n",
    "df_diseases = pd.read_csv(\"../Datasets/DS01-Mexico/catalogos/lista_translated.csv\", encoding = 'utf-8')"
   ]
  },
  {
   "cell_type": "code",
   "execution_count": null,
   "metadata": {},
   "outputs": [],
   "source": [
    "# Processing causes of death catalog description\n",
    "df_diseases = pd.read_csv(\"../Datasets/DS01-Mexico/catalogos/lista1.csv\",encoding = 'utf-8') # Import csv containign cause of death description (spanish)\n",
    "df_diseases['DESCRIP'] = df_diseases[\"DESCRIP\"].str.lower() # Set description to lowercase\n",
    "df_diseases['cause_death'] = df_diseases['DESCRIP'].apply(functions.translate_english) # Apply function to translate description using google transpate API\n",
    "#df_diseases.to_csv('../Datasets/DS01-Mexico/catalogos/lista_translated.csv', index=False) # Save Translated list into CSV file\n",
    "df_diseases.head()"
   ]
  },
  {
   "cell_type": "code",
   "execution_count": null,
   "metadata": {},
   "outputs": [],
   "source": [
    "df_diseases['wiki'] = df_diseases['cause_death'].apply(functions.getWikipediaInfo)"
   ]
  },
  {
   "cell_type": "code",
   "execution_count": null,
   "metadata": {},
   "outputs": [],
   "source": [
    "df_diseases.head()"
   ]
  },
  {
   "cell_type": "code",
   "execution_count": null,
   "metadata": {},
   "outputs": [],
   "source": [
    "#translator = Translator()\n",
    "#Definde key words per category\n",
    "categories = {\n",
    "    'is_accidents':{'accidents','accidental','assaults','external','falls','drowning','injuries','smoke','fire'},\n",
    "    'is_cancer':{'tumor','linfoma','leukemia','malignant','myeloma','melanoma'},\n",
    "    'is_CVD': {'hypertensive','heart','circulatory','ischemic','cerebrovascular','atherosclerosis'}, # Cardio vascular diseases\n",
    "    'is_diabetes':{'diabetes'}, #Diabetes\n",
    "    'is_digestive':{'intestine','stomach','digestive','gastric','esophagus','colon'},\n",
    "    'is_mental':{'alzheimer','mental'},\n",
    "    'is_pregnancy':{'pregnancy','pregnant','puerperium','abortion','obstetric','natal'},\n",
    "    'is_respiratory':{'respiratory','lung','pneumonia','tuberculosis','lungs','cough'},\n",
    "    'is_virus':{'virus','viral','viruses'},\n",
    "    'is_suicide':{'self-inflicted'},\n",
    "    'is_bachteria':{'bachteria','bachterial','bacterium','parasitic'}\n",
    "}\n",
    "\n",
    "\n",
    "# Loop trough defined categories searching for keywords to group the causes of death\n",
    "for category in categories:\n",
    "    find_words = categories[category]\n",
    "    df_diseases[category] = False # Creates an empty new column fill with False\n",
    "    df_diseases[category] = df_diseases.apply(lambda row:functions.getCauseDeathCategory(row,category,find_words),axis=1) #applyes fucntion for find words on category column\n",
    "df_diseases.drop(['wiki'],axis='columns', inplace=True) # Drop wiki info colun after classification\n",
    "\n",
    "df_diseases.head(10)"
   ]
  },
  {
   "cell_type": "code",
   "execution_count": null,
   "metadata": {},
   "outputs": [],
   "source": [
    "                df_merged = df_mongo.merge(df_diseases, left_on='lista1', right_on='CVE', how='inner')\n",
    "                df_merged.drop(['lista1','CVE','DESCRIP'], axis='columns', inplace=True)\n",
    "                df_merged.head()"
   ]
  },
  {
   "cell_type": "code",
   "execution_count": null,
   "metadata": {},
   "outputs": [],
   "source": [
    "df_merged.head()"
   ]
  },
  {
   "cell_type": "code",
   "execution_count": null,
   "metadata": {},
   "outputs": [],
   "source": [
    "results = list(collection.find())\n",
    "data = pd.DataFrame(results)\n",
    "print(data.shape)\n",
    "data.head()"
   ]
  },
  {
   "cell_type": "code",
   "execution_count": null,
   "metadata": {},
   "outputs": [],
   "source": [
    "def execute_values(conn, df, table):\n",
    "    \"\"\"\n",
    "    Using psycopg2.extras.execute_values() to insert the dataframe\n",
    "    \"\"\"\n",
    "    # Create a list of tupples from the dataframe values\n",
    "    tuples = [tuple(x) for x in df.to_numpy()]\n",
    "    # Comma-separated dataframe columns\n",
    "    cols = ','.join(list(df.columns))\n",
    "    # SQL quert to execute\n",
    "    query  = \"INSERT INTO %s(%s) VALUES %%s\" % (table, cols)\n",
    "    logMessage(query,1)\n",
    "    cursor = conn.cursor()\n",
    "    try:\n",
    "        extras.execute_values(cursor, query, tuples)\n",
    "        conn.commit()\n",
    "    except (Exception, psycopg2.DatabaseError) as error:\n",
    "        print(\"Error: %s\" % error)\n",
    "        conn.rollback()\n",
    "        cursor.close()\n",
    "        return 1\n",
    "    print(\"execute_values() done\")\n",
    "    cursor.close()"
   ]
  },
  {
   "cell_type": "code",
   "execution_count": null,
   "metadata": {},
   "outputs": [],
   "source": [
    "myquery = { 'capitulo' : 10 , 'grupo' : 2} # select query with old coluns value\n",
    "newvalues = { \"$set\": { 'idc10': 'J09-J18' } } #creates new column with new value\n",
    "results = collection.update_many(myquery, newvalues)"
   ]
  },
  {
   "cell_type": "code",
   "execution_count": null,
   "metadata": {},
   "outputs": [],
   "source": [
    "collection = mongo.getMongoCollection(dbname,collname) # Get mongo collection to perform operations\n",
    "column_merge = { \n",
    "    'query' : ['capitulo' , 'grupo'],\n",
    "    'value' : 'icd10_group'\n",
    "    } \n",
    "df_icd_groups.apply(lambda row: mongo.mergeColumn(collection,column_merge,row),axis=1)\n",
    "mongo.getDBStatistics(dbname)"
   ]
  },
  {
   "cell_type": "code",
   "execution_count": null,
   "metadata": {},
   "outputs": [],
   "source": [
    "collection = mongo.getMongoCollection(dbname,collname) # Get mongo collection to perform operations\n",
    "column_merge = { \n",
    "    'query' : ['capitulo'],\n",
    "    'value' : 'icd10_chapter'\n",
    "    } \n",
    "df_icd_chapters.apply(lambda row: mongo.mergeColumn(collection,column_merge,row),axis=1)\n",
    "mongo.getDBStatistics(dbname)"
   ]
  },
  {
   "cell_type": "code",
   "execution_count": null,
   "metadata": {},
   "outputs": [],
   "source": [
    "# Processing causes of death catalog description\n",
    "df_diseases = pd.read_csv(\"../Datasets/DS01-Mexico/catalogos/lista1.csv\",encoding = 'utf-8') # Import csv containign cause of death description (spanish)\n",
    "df_diseases['DESCRIP'] = df_diseases[\"DESCRIP\"].str.lower() # Set description to lowercase\n",
    "df_diseases['cause_death'] = df_diseases['DESCRIP'].apply(functions.translate_english) # Apply function to translate description using google transpate API\n",
    "#df_diseases.to_csv('../Datasets/DS01-Mexico/catalogos/lista_translated.csv', index=False) # Save Translated list into CSV file\n",
    "df_diseases.head()"
   ]
  },
  {
   "cell_type": "code",
   "execution_count": null,
   "metadata": {},
   "outputs": [],
   "source": [
    "#load the translated csv in caise of API  failiure\n",
    "#The translation API has a limit of call's per time frame, after multiple calls in a short period of time it may return the untraslated text with no warning, to deal with this a translated CSV is available and loaded to prevent issues when running the Notebook in Project revision\n",
    "df_diseases = pd.read_csv(\"../Datasets/DS01-Mexico/catalogos/lista_translated.csv\", encoding = 'utf-8')"
   ]
  },
  {
   "cell_type": "code",
   "execution_count": null,
   "metadata": {},
   "outputs": [],
   "source": [
    "#translator = Translator()\n",
    "#Definde key words per category\n",
    "categories = {\n",
    "    'is_accidents':{'accidents','accidental','assaults','external','falls','drowning','injuries','smoke','fire'},\n",
    "    'is_cancer':{'tumor','linfoma','leukemia','malignant','myeloma','melanoma'},\n",
    "    'is_CVD': {'hypertensive','heart','circulatory','ischemic','cerebrovascular','atherosclerosis'}, # Cardio vascular diseases\n",
    "    'is_diabetes':{'diabetes'}, #Diabetes\n",
    "    'is_digestive':{'intestine','stomach','digestive','gastric','esophagus','colon'},\n",
    "    'is_mental':{'alzheimer','mental'},\n",
    "    'is_pregnancy':{'pregnancy','pregnant','puerperium','abortion','obstetric','natal'},\n",
    "    'is_respiratory':{'respiratory','lung','pneumonia','tuberculosis','lungs','cough'},\n",
    "    'is_virus':{'virus','viral','viruses'},\n",
    "    'is_suicide':{'self-inflicted'},\n",
    "    'is_bachteria':{'bachteria','bachterial','bacterium','parasitic'}\n",
    "}\n",
    "\n",
    "\n",
    "# Loop trough defined categories searching for keywords to group the causes of death\n",
    "for category in categories:\n",
    "    find_words = categories[category]\n",
    "    df_diseases[category] = False # Creates an empty new column fill with False\n",
    "    df_diseases[category] = df_diseases.apply(lambda row:functions.getCauseDeathCategory(row,category,find_words),axis=1) #applyes fucntion for find words on category column\n",
    "df_diseases.drop(['wiki'],axis='columns', inplace=True) # Drop wiki info colun after classification\n",
    "\n",
    "df_diseases.head(10)"
   ]
  },
  {
   "cell_type": "code",
   "execution_count": null,
   "metadata": {},
   "outputs": [],
   "source": [
    "df_diseases.head()"
   ]
  },
  {
   "cell_type": "code",
   "execution_count": null,
   "metadata": {},
   "outputs": [],
   "source": [
    "df_diseases['wiki'] = df_diseases['cause_death'].apply(functions.getWikipediaInfo)"
   ]
  },
  {
   "cell_type": "code",
   "execution_count": null,
   "metadata": {},
   "outputs": [],
   "source": [
    "df_merged = df_mongo.merge(df_diseases, left_on='lista1', right_on='CVE', how='inner')\n",
    "df_merged.drop(['lista1','CVE','DESCRIP'], axis='columns', inplace=True)\n",
    "df_merged.head()"
   ]
  },
  {
   "cell_type": "code",
   "execution_count": null,
   "metadata": {},
   "outputs": [],
   "source": [
    "collection = mongo.getMongoCollection(dbname,collname)\n",
    "collection.update_many({}, { \"$unset\": { 'icd10_group': \"\" } })"
   ]
  }
 ]
}