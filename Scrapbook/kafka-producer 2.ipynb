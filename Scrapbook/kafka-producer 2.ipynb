{
 "metadata": {
  "language_info": {
   "codemirror_mode": {
    "name": "ipython",
    "version": 3
   },
   "file_extension": ".py",
   "mimetype": "text/x-python",
   "name": "python",
   "nbconvert_exporter": "python",
   "pygments_lexer": "ipython3",
   "version": "3.7.10"
  },
  "orig_nbformat": 2,
  "kernelspec": {
   "name": "python3710jvsc74a57bd0df9440572eb606f9e8681692e07c753c8883ad880fdfa9121cfd05ecefba0f1e",
   "display_name": "Python 3.7.10 64-bit ('base': conda)"
  }
 },
 "nbformat": 4,
 "nbformat_minor": 2,
 "cells": [
  {
   "cell_type": "code",
   "execution_count": 1,
   "metadata": {},
   "outputs": [],
   "source": [
    "from kafka import KafkaProducer\n",
    "from kafka.errors import KafkaError\n",
    "from datetime import datetime\n",
    "import psutil\n",
    "import time\n",
    "import json\n",
    "\n"
   ]
  },
  {
   "cell_type": "code",
   "execution_count": 2,
   "metadata": {},
   "outputs": [],
   "source": [
    "kafka_broker='ncirl-az02.westeurope.cloudapp.azure.com:9092' \n",
    "\n",
    "producer = KafkaProducer(\n",
    "    bootstrap_servers = [kafka_broker],\n",
    "    value_serializer = lambda m: json.dumps(m).encode('utf-8')\n",
    ")\n",
    "\n"
   ]
  },
  {
   "cell_type": "code",
   "execution_count": 3,
   "metadata": {},
   "outputs": [
    {
     "output_type": "stream",
     "name": "stdout",
     "text": [
      "OrderedDict([('user', 6318.33), ('nice', 0.0), ('system', 2999.93), ('idle', 104053.63), ('datetime', '23/04/2021, 22:08:15')])\n",
      "OrderedDict([('user', 6320.34), ('nice', 0.0), ('system', 3001.11), ('idle', 104086.48), ('datetime', '23/04/2021, 22:08:18')])\n",
      "OrderedDict([('user', 6322.58), ('nice', 0.0), ('system', 3002.31), ('idle', 104119.0), ('datetime', '23/04/2021, 22:08:21')])\n",
      "OrderedDict([('user', 6324.28), ('nice', 0.0), ('system', 3003.24), ('idle', 104152.43), ('datetime', '23/04/2021, 22:08:24')])\n",
      "OrderedDict([('user', 6325.36), ('nice', 0.0), ('system', 3003.82), ('idle', 104186.8), ('datetime', '23/04/2021, 22:08:27')])\n",
      "OrderedDict([('user', 6326.34), ('nice', 0.0), ('system', 3004.38), ('idle', 104221.29), ('datetime', '23/04/2021, 22:08:30')])\n",
      "OrderedDict([('user', 6327.19), ('nice', 0.0), ('system', 3004.89), ('idle', 104255.94), ('datetime', '23/04/2021, 22:08:33')])\n",
      "OrderedDict([('user', 6328.02), ('nice', 0.0), ('system', 3005.36), ('idle', 104290.67), ('datetime', '23/04/2021, 22:08:36')])\n",
      "OrderedDict([('user', 6328.88), ('nice', 0.0), ('system', 3005.88), ('idle', 104325.29), ('datetime', '23/04/2021, 22:08:39')])\n",
      "OrderedDict([('user', 6329.71), ('nice', 0.0), ('system', 3006.38), ('idle', 104359.99), ('datetime', '23/04/2021, 22:08:42')])\n",
      "OrderedDict([('user', 6330.53), ('nice', 0.0), ('system', 3006.86), ('idle', 104394.74), ('datetime', '23/04/2021, 22:08:45')])\n",
      "OrderedDict([('user', 6331.35), ('nice', 0.0), ('system', 3007.4), ('idle', 104429.43), ('datetime', '23/04/2021, 22:08:48')])\n",
      "OrderedDict([('user', 6332.18), ('nice', 0.0), ('system', 3007.89), ('idle', 104464.12), ('datetime', '23/04/2021, 22:08:51')])\n",
      "OrderedDict([('user', 6333.11), ('nice', 0.0), ('system', 3008.41), ('idle', 104498.78), ('datetime', '23/04/2021, 22:08:54')])\n",
      "OrderedDict([('user', 6333.94), ('nice', 0.0), ('system', 3008.87), ('idle', 104533.52), ('datetime', '23/04/2021, 22:08:57')])\n",
      "OrderedDict([('user', 6334.83), ('nice', 0.0), ('system', 3009.41), ('idle', 104568.11), ('datetime', '23/04/2021, 22:09:00')])\n",
      "OrderedDict([('user', 6335.66), ('nice', 0.0), ('system', 3009.94), ('idle', 104602.81), ('datetime', '23/04/2021, 22:09:03')])\n",
      "OrderedDict([('user', 6336.47), ('nice', 0.0), ('system', 3010.4), ('idle', 104637.53), ('datetime', '23/04/2021, 22:09:06')])\n",
      "OrderedDict([('user', 6337.3), ('nice', 0.0), ('system', 3010.9), ('idle', 104672.26), ('datetime', '23/04/2021, 22:09:09')])\n",
      "OrderedDict([('user', 6339.29), ('nice', 0.0), ('system', 3011.57), ('idle', 104705.63), ('datetime', '23/04/2021, 22:09:12')])\n",
      "OrderedDict([('user', 6340.21), ('nice', 0.0), ('system', 3012.13), ('idle', 104740.21), ('datetime', '23/04/2021, 22:09:15')])\n",
      "OrderedDict([('user', 6341.02), ('nice', 0.0), ('system', 3012.64), ('idle', 104774.92), ('datetime', '23/04/2021, 22:09:18')])\n",
      "OrderedDict([('user', 6342.19), ('nice', 0.0), ('system', 3013.37), ('idle', 104809.04), ('datetime', '23/04/2021, 22:09:21')])\n",
      "OrderedDict([('user', 6344.05), ('nice', 0.0), ('system', 3014.11), ('idle', 104842.47), ('datetime', '23/04/2021, 22:09:24')])\n",
      "OrderedDict([('user', 6345.01), ('nice', 0.0), ('system', 3014.64), ('idle', 104877.02), ('datetime', '23/04/2021, 22:09:27')])\n",
      "OrderedDict([('user', 6345.85), ('nice', 0.0), ('system', 3015.15), ('idle', 104911.7), ('datetime', '23/04/2021, 22:09:30')])\n",
      "OrderedDict([('user', 6346.76), ('nice', 0.0), ('system', 3015.69), ('idle', 104946.32), ('datetime', '23/04/2021, 22:09:33')])\n",
      "OrderedDict([('user', 6347.6), ('nice', 0.0), ('system', 3016.13), ('idle', 104981.08), ('datetime', '23/04/2021, 22:09:36')])\n",
      "OrderedDict([('user', 6348.95), ('nice', 0.0), ('system', 3016.92), ('idle', 105014.96), ('datetime', '23/04/2021, 22:09:39')])\n",
      "OrderedDict([('user', 6350.16), ('nice', 0.0), ('system', 3017.6), ('idle', 105049.09), ('datetime', '23/04/2021, 22:09:42')])\n",
      "OrderedDict([('user', 6350.98), ('nice', 0.0), ('system', 3018.13), ('idle', 105083.77), ('datetime', '23/04/2021, 22:09:45')])\n",
      "OrderedDict([('user', 6352.35), ('nice', 0.0), ('system', 3018.94), ('idle', 105117.65), ('datetime', '23/04/2021, 22:09:48')])\n",
      "OrderedDict([('user', 6354.69), ('nice', 0.0), ('system', 3020.18), ('idle', 105150.07), ('datetime', '23/04/2021, 22:09:51')])\n",
      "OrderedDict([('user', 6357.75), ('nice', 0.0), ('system', 3021.52), ('idle', 105181.75), ('datetime', '23/04/2021, 22:09:54')])\n",
      "OrderedDict([('user', 6359.46), ('nice', 0.0), ('system', 3022.44), ('idle', 105215.18), ('datetime', '23/04/2021, 22:09:57')])\n",
      "OrderedDict([('user', 6361.24), ('nice', 0.0), ('system', 3023.41), ('idle', 105248.44), ('datetime', '23/04/2021, 22:10:00')])\n",
      "OrderedDict([('user', 6362.95), ('nice', 0.0), ('system', 3024.37), ('idle', 105281.8), ('datetime', '23/04/2021, 22:10:03')])\n",
      "OrderedDict([('user', 6365.57), ('nice', 0.0), ('system', 3025.79), ('idle', 105313.75), ('datetime', '23/04/2021, 22:10:06')])\n",
      "OrderedDict([('user', 6367.66), ('nice', 0.0), ('system', 3026.9), ('idle', 105346.64), ('datetime', '23/04/2021, 22:10:09')])\n",
      "OrderedDict([('user', 6370.04), ('nice', 0.0), ('system', 3028.15), ('idle', 105379.05), ('datetime', '23/04/2021, 22:10:12')])\n",
      "OrderedDict([('user', 6372.33), ('nice', 0.0), ('system', 3029.3), ('idle', 105411.63), ('datetime', '23/04/2021, 22:10:15')])\n",
      "OrderedDict([('user', 6374.37), ('nice', 0.0), ('system', 3030.3), ('idle', 105444.6), ('datetime', '23/04/2021, 22:10:18')])\n",
      "OrderedDict([('user', 6376.68), ('nice', 0.0), ('system', 3031.41), ('idle', 105477.25), ('datetime', '23/04/2021, 22:10:21')])\n",
      "OrderedDict([('user', 6379.12), ('nice', 0.0), ('system', 3032.35), ('idle', 105509.91), ('datetime', '23/04/2021, 22:10:24')])\n",
      "OrderedDict([('user', 6380.73), ('nice', 0.0), ('system', 3033.08), ('idle', 105543.62), ('datetime', '23/04/2021, 22:10:27')])\n",
      "OrderedDict([('user', 6382.91), ('nice', 0.0), ('system', 3033.9), ('idle', 105576.67), ('datetime', '23/04/2021, 22:10:30')])\n",
      "OrderedDict([('user', 6384.98), ('nice', 0.0), ('system', 3035.18), ('idle', 105609.41), ('datetime', '23/04/2021, 22:10:33')])\n",
      "OrderedDict([('user', 6387.36), ('nice', 0.0), ('system', 3036.41), ('idle', 105641.83), ('datetime', '23/04/2021, 22:10:36')])\n",
      "OrderedDict([('user', 6388.43), ('nice', 0.0), ('system', 3037.0), ('idle', 105676.23), ('datetime', '23/04/2021, 22:10:39')])\n",
      "OrderedDict([('user', 6389.5), ('nice', 0.0), ('system', 3037.61), ('idle', 105710.6), ('datetime', '23/04/2021, 22:10:42')])\n",
      "OrderedDict([('user', 6390.58), ('nice', 0.0), ('system', 3038.2), ('idle', 105744.96), ('datetime', '23/04/2021, 22:10:45')])\n",
      "OrderedDict([('user', 6391.58), ('nice', 0.0), ('system', 3038.75), ('idle', 105779.42), ('datetime', '23/04/2021, 22:10:48')])\n",
      "OrderedDict([('user', 6392.76), ('nice', 0.0), ('system', 3039.27), ('idle', 105813.73), ('datetime', '23/04/2021, 22:10:51')])\n",
      "OrderedDict([('user', 6393.91), ('nice', 0.0), ('system', 3039.82), ('idle', 105848.09), ('datetime', '23/04/2021, 22:10:54')])\n",
      "OrderedDict([('user', 6395.07), ('nice', 0.0), ('system', 3040.46), ('idle', 105882.35), ('datetime', '23/04/2021, 22:10:57')])\n",
      "OrderedDict([('user', 6396.33), ('nice', 0.0), ('system', 3041.13), ('idle', 105916.49), ('datetime', '23/04/2021, 22:11:00')])\n",
      "OrderedDict([('user', 6397.4), ('nice', 0.0), ('system', 3041.67), ('idle', 105950.91), ('datetime', '23/04/2021, 22:11:03')])\n",
      "OrderedDict([('user', 6398.41), ('nice', 0.0), ('system', 3042.16), ('idle', 105985.46), ('datetime', '23/04/2021, 22:11:06')])\n",
      "OrderedDict([('user', 6400.06), ('nice', 0.0), ('system', 3042.87), ('idle', 106019.12), ('datetime', '23/04/2021, 22:11:09')])\n",
      "OrderedDict([('user', 6402.04), ('nice', 0.0), ('system', 3043.75), ('idle', 106052.29), ('datetime', '23/04/2021, 22:11:12')])\n",
      "OrderedDict([('user', 6404.17), ('nice', 0.0), ('system', 3044.76), ('idle', 106085.15), ('datetime', '23/04/2021, 22:11:15')])\n",
      "OrderedDict([('user', 6406.02), ('nice', 0.0), ('system', 3045.83), ('idle', 106118.23), ('datetime', '23/04/2021, 22:11:18')])\n",
      "OrderedDict([('user', 6406.92), ('nice', 0.0), ('system', 3046.34), ('idle', 106152.87), ('datetime', '23/04/2021, 22:11:21')])\n",
      "OrderedDict([('user', 6408.61), ('nice', 0.0), ('system', 3047.23), ('idle', 106186.31), ('datetime', '23/04/2021, 22:11:24')])\n",
      "OrderedDict([('user', 6410.58), ('nice', 0.0), ('system', 3048.23), ('idle', 106219.42), ('datetime', '23/04/2021, 22:11:27')])\n",
      "OrderedDict([('user', 6412.8), ('nice', 0.0), ('system', 3049.32), ('idle', 106252.17), ('datetime', '23/04/2021, 22:11:30')])\n",
      "OrderedDict([('user', 6415.7), ('nice', 0.0), ('system', 3050.88), ('idle', 106283.77), ('datetime', '23/04/2021, 22:11:33')])\n",
      "OrderedDict([('user', 6417.95), ('nice', 0.0), ('system', 3052.02), ('idle', 106316.44), ('datetime', '23/04/2021, 22:11:36')])\n",
      "OrderedDict([('user', 6420.17), ('nice', 0.0), ('system', 3053.08), ('idle', 106349.22), ('datetime', '23/04/2021, 22:11:39')])\n",
      "OrderedDict([('user', 6422.76), ('nice', 0.0), ('system', 3054.3), ('idle', 106381.44), ('datetime', '23/04/2021, 22:11:42')])\n",
      "OrderedDict([('user', 6425.18), ('nice', 0.0), ('system', 3055.45), ('idle', 106413.92), ('datetime', '23/04/2021, 22:11:45')])\n",
      "OrderedDict([('user', 6426.19), ('nice', 0.0), ('system', 3056.05), ('idle', 106448.31), ('datetime', '23/04/2021, 22:11:48')])\n",
      "OrderedDict([('user', 6427.13), ('nice', 0.0), ('system', 3056.54), ('idle', 106482.93), ('datetime', '23/04/2021, 22:11:51')])\n",
      "OrderedDict([('user', 6428.12), ('nice', 0.0), ('system', 3056.96), ('idle', 106517.55), ('datetime', '23/04/2021, 22:11:54')])\n",
      "OrderedDict([('user', 6429.12), ('nice', 0.0), ('system', 3057.36), ('idle', 106552.19), ('datetime', '23/04/2021, 22:11:57')])\n",
      "OrderedDict([('user', 6430.73), ('nice', 0.0), ('system', 3058.14), ('idle', 106585.9), ('datetime', '23/04/2021, 22:12:00')])\n",
      "OrderedDict([('user', 6431.89), ('nice', 0.0), ('system', 3058.7), ('idle', 106620.18), ('datetime', '23/04/2021, 22:12:03')])\n",
      "OrderedDict([('user', 6435.0), ('nice', 0.0), ('system', 3060.19), ('idle', 106651.56), ('datetime', '23/04/2021, 22:12:06')])\n"
     ]
    },
    {
     "output_type": "error",
     "ename": "KeyboardInterrupt",
     "evalue": "",
     "traceback": [
      "\u001b[0;31m---------------------------------------------------------------------------\u001b[0m",
      "\u001b[0;31mKeyboardInterrupt\u001b[0m                         Traceback (most recent call last)",
      "\u001b[0;32m<ipython-input-3-ba57c1399eca>\u001b[0m in \u001b[0;36m<module>\u001b[0;34m\u001b[0m\n\u001b[1;32m      5\u001b[0m     \u001b[0mfuture\u001b[0m \u001b[0;34m=\u001b[0m \u001b[0mproducer\u001b[0m\u001b[0;34m.\u001b[0m\u001b[0msend\u001b[0m\u001b[0;34m(\u001b[0m\u001b[0;34m'cpu'\u001b[0m\u001b[0;34m,\u001b[0m\u001b[0mcpu_times\u001b[0m\u001b[0;34m)\u001b[0m\u001b[0;34m\u001b[0m\u001b[0;34m\u001b[0m\u001b[0m\n\u001b[1;32m      6\u001b[0m     \u001b[0mprint\u001b[0m\u001b[0;34m(\u001b[0m\u001b[0mcpu_times\u001b[0m\u001b[0;34m)\u001b[0m\u001b[0;34m\u001b[0m\u001b[0;34m\u001b[0m\u001b[0m\n\u001b[0;32m----> 7\u001b[0;31m     \u001b[0mtime\u001b[0m\u001b[0;34m.\u001b[0m\u001b[0msleep\u001b[0m\u001b[0;34m(\u001b[0m\u001b[0;36m3\u001b[0m\u001b[0;34m)\u001b[0m\u001b[0;34m\u001b[0m\u001b[0;34m\u001b[0m\u001b[0m\n\u001b[0m",
      "\u001b[0;31mKeyboardInterrupt\u001b[0m: "
     ]
    }
   ],
   "source": [
    "while True :\n",
    "    cpu_times = psutil.cpu_times()._asdict()\n",
    "    cpu_times['datetime'] = datetime.now().strftime(\"%d/%m/%Y, %H:%M:%S\")\n",
    "\n",
    "    future = producer.send('cpu',cpu_times)\n",
    "    print(cpu_times)\n",
    "    time.sleep(3)"
   ]
  },
  {
   "cell_type": "code",
   "execution_count": null,
   "metadata": {},
   "outputs": [],
   "source": []
  }
 ]
}