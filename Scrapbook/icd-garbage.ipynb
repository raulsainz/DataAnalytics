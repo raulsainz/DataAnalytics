{
 "metadata": {
  "language_info": {
   "codemirror_mode": {
    "name": "ipython",
    "version": 3
   },
   "file_extension": ".py",
   "mimetype": "text/x-python",
   "name": "python",
   "nbconvert_exporter": "python",
   "pygments_lexer": "ipython3",
   "version": "3.7.10"
  },
  "orig_nbformat": 2,
  "kernelspec": {
   "name": "python3710jvsc74a57bd0df9440572eb606f9e8681692e07c753c8883ad880fdfa9121cfd05ecefba0f1e",
   "display_name": "Python 3.7.10 64-bit ('base': conda)"
  }
 },
 "nbformat": 4,
 "nbformat_minor": 2,
 "cells": [
  {
   "cell_type": "code",
   "execution_count": 13,
   "metadata": {},
   "outputs": [],
   "source": [
    "import pandas as pd "
   ]
  },
  {
   "cell_type": "code",
   "execution_count": 18,
   "metadata": {},
   "outputs": [
    {
     "output_type": "execute_result",
     "data": {
      "text/plain": [
       "  Garbage Code Severity Level  \\\n",
       "0         Very High (Level 1)   \n",
       "1              High (Level 2)   \n",
       "2            Medium (Level 3)   \n",
       "3               Low (Level 4)   \n",
       "\n",
       "                                        ICD-10 Codes  \n",
       "0  A40, A40.0 - A40.3, A40.8 - A40.9, A41, A41.0 ...  \n",
       "1  A14.9, A29, A30, A30.0 - A30.5, A30.8 - A30.9,...  \n",
       "2  A01, A49.2, A64, A64.0, A99, A99.0, B55, B55.9...  \n",
       "3  B54, B54.0, B64, B82, B82.0, B82.9, B83.9, E12...  "
      ],
      "text/html": "<div>\n<style scoped>\n    .dataframe tbody tr th:only-of-type {\n        vertical-align: middle;\n    }\n\n    .dataframe tbody tr th {\n        vertical-align: top;\n    }\n\n    .dataframe thead th {\n        text-align: right;\n    }\n</style>\n<table border=\"1\" class=\"dataframe\">\n  <thead>\n    <tr style=\"text-align: right;\">\n      <th></th>\n      <th>Garbage Code Severity Level</th>\n      <th>ICD-10 Codes</th>\n    </tr>\n  </thead>\n  <tbody>\n    <tr>\n      <th>0</th>\n      <td>Very High (Level 1)</td>\n      <td>A40, A40.0 - A40.3, A40.8 - A40.9, A41, A41.0 ...</td>\n    </tr>\n    <tr>\n      <th>1</th>\n      <td>High (Level 2)</td>\n      <td>A14.9, A29, A30, A30.0 - A30.5, A30.8 - A30.9,...</td>\n    </tr>\n    <tr>\n      <th>2</th>\n      <td>Medium (Level 3)</td>\n      <td>A01, A49.2, A64, A64.0, A99, A99.0, B55, B55.9...</td>\n    </tr>\n    <tr>\n      <th>3</th>\n      <td>Low (Level 4)</td>\n      <td>B54, B54.0, B64, B82, B82.0, B82.9, B83.9, E12...</td>\n    </tr>\n  </tbody>\n</table>\n</div>"
     },
     "metadata": {},
     "execution_count": 18
    }
   ],
   "source": [
    "df = pd.read_csv('Datasets/garbage_icd10_codes.csv')\n",
    "df.head()"
   ]
  },
  {
   "cell_type": "code",
   "execution_count": 19,
   "metadata": {},
   "outputs": [
    {
     "output_type": "execute_result",
     "data": {
      "text/plain": [
       "0    A40, A40.0 - A40.3, A40.8 - A40.9, A41, A41.0 ...\n",
       "1    A14.9, A29, A30, A30.0 - A30.5, A30.8 - A30.9,...\n",
       "2    A01, A49.2, A64, A64.0, A99, A99.0, B55, B55.9...\n",
       "3    B54, B54.0, B64, B82, B82.0, B82.9, B83.9, E12...\n",
       "Name: ICD-10 Codes, dtype: object"
      ]
     },
     "metadata": {},
     "execution_count": 19
    }
   ],
   "source": [
    "df['ICD-10 Codes']"
   ]
  },
  {
   "cell_type": "code",
   "execution_count": null,
   "metadata": {},
   "outputs": [],
   "source": []
  }
 ]
}