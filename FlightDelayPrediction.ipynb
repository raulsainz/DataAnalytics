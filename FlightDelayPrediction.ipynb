{
 "metadata": {
  "language_info": {
   "codemirror_mode": {
    "name": "ipython",
    "version": 3
   },
   "file_extension": ".py",
   "mimetype": "text/x-python",
   "name": "python",
   "nbconvert_exporter": "python",
   "pygments_lexer": "ipython3",
   "version": "3.7.10"
  },
  "orig_nbformat": 2,
  "kernelspec": {
   "name": "python3710jvsc74a57bd0df9440572eb606f9e8681692e07c753c8883ad880fdfa9121cfd05ecefba0f1e",
   "display_name": "Python 3.7.10 64-bit ('base': conda)"
  }
 },
 "nbformat": 4,
 "nbformat_minor": 2,
 "cells": [
  {
   "source": [
    "# Flight Delay Prediction (Jan 2019)\n",
    "The dataset contains records gathered by the Bureau of Transportation Statistics (BTS)[9] toprovide historical comparisons of monthly on-time reports filed by large US Airlines.  \n",
    "\n",
    "_Only datasetsfor 2019 intentionally selected due to the substantial effect of COVID19 in the aviation industry in2020, it is out of scope of this project to analyze this factor._\n",
    "### Source:Bureau of Transportation Statistics \n",
    "### Number of rows:1,984,933\n",
    "### Dataset features and description:\n",
    "\n",
    "| Variable name               | Description                                                                                            |\n",
    "|-----------------------------|--------------------------------------------------------------------------------------------------------|\n",
    "| Quarter (Time Period)       | Quarter (1-4)                                                                                          |\n",
    "| Month                       | Month                                                                                                  |\n",
    "| DayOfWeek                   | Day of Week  (1 - Monday, 2 -Tuesday, 3 - Wendsday)                                                                                          |\n",
    "| Operating\\_Airline          | Carrier Code                                                                                           |\n",
    "| Origin                      | Origin Airport                                                                                         |\n",
    "| Dest                        | Destination Airport                                                                                    |\n",
    "| DepTime                     | Actual Departure Time (local time: hhmm)                                                               |\n",
    "| DepDelay                    | Difference between scheduled and actual departure time (Minutes)                                       |\n",
    "| DepDel15                    | Departure Delay Indicator (1=Yes)                                                                      |\n",
    "| DepartureDelayGroups        | Departure Delay intervals, every (15 minutes from <-15 to >180)                                        |\n",
    "| TaxiOut                     | Taxi-Out Time (Minutes)                                                                                |\n",
    "| TaxiIn                      | Taxi-In Time (Minutes)                                                                                 |\n",
    "| **ArrDelay (target)**          | **Difference in minutes between scheduled and actual arrival time**. *Early arrivals show negative numbers |\n",
    "| ArrDel15                    | Arrival Delay Indicator, 15 Minutes or More (1=Yes)                                                    |\n",
    "| ArrivalDelayGroups          | Arrival Delay intervals (15-minutes from <-15 to >180)                                                 |\n",
    "| Cancelled                   | Cancelled Flight Indicator (1=Yes)                                                                     |\n",
    "| CancellationCode            | Specifies The Reason For Cancellation                                                                  |\n",
    "| ActualElapsedTime           | Elapsed Time of Flight, in Minutes                                                                     |\n",
    "| AirTime                     | Flight Time, in Minutes                                                                                |\n",
    "| Flights                     | Number of Flights                                                                                      |\n",
    "| Distance                    | Distance between airports (Miles)                                                                      |\n",
    "| DistanceGroup               | Distance FLight Segment, (every 250 Miles)                                                             |\n",
    "| CarrierDelay                | Delay by Carrier (Minutes)                                                                             |\n",
    "| NASDelay                    | Delay by NAS (Minutes)                                                                                 |\n",
    "| SecurityDelay               | Delay by Security (Minutes)                                                                            |\n",
    "| LateAircraftDelay           | Delay by Late Aircraft (in Minutes)                                                                    |\n",
    "| WeatherDelay                | Delay caused by Weather (Minutes)                                                                      |"
   ],
   "cell_type": "markdown",
   "metadata": {}
  },
  {
   "cell_type": "code",
   "execution_count": null,
   "metadata": {},
   "outputs": [],
   "source": [
    "#Import basic libraries\n",
    "import pandas as pd\n",
    "import numpy as np\n",
    "import matplotlib.pyplot as plt\n",
    "import seaborn as sns\n",
    "import warnings\n",
    "warnings.filterwarnings(\"ignore\")"
   ]
  },
  {
   "cell_type": "code",
   "execution_count": null,
   "metadata": {},
   "outputs": [],
   "source": [
    "#Setup pandas display parameters\n",
    "pd.options.display.max_columns = 50\n",
    "pd.options.display.max_rows = 200\n",
    "pd.options.display.max_colwidth= 50\n",
    "pd.options.display.precision = 3"
   ]
  },
  {
   "cell_type": "code",
   "execution_count": null,
   "metadata": {},
   "outputs": [],
   "source": [
    "#Define initial model parameters\n",
    "cv_n_split = 3\n",
    "random_state = 42\n",
    "test_train_split = 0.25\n",
    "sample = True\n",
    "sample_size = 0.1"
   ]
  },
  {
   "cell_type": "code",
   "execution_count": null,
   "metadata": {},
   "outputs": [],
   "source": [
    "#Setup  Pplotting enviroment\n",
    "sns.set()\n",
    "sns.set_context('notebook',rc={\"grid.linewidth\": 5})\n",
    "sns.set_style(\"whitegrid\")\n",
    "colors = [\"#345E6F\",\"#264653\",\"#287271\",\"#2a9d8f\",\"#e9c46a\",\"#efb366\",\"#f4a261\",\"#ee8959\",\"#e76f51\",\"#e87153\",\"#e97c61\", '#902C14']\n",
    "colors = [\"#5998B1\",\"#406F82\",\"#264653\",\"#287271\",\"#2a9d8f\",\"#8AB17D\",\"#E9C46A\",\"#EFB366\",\"#F4A261\",\"#E76F51\",\"#C53D1B\",\"#923B26\"]\n",
    "bin_colors = [\"#264653\",\"#2A9D8F\",\"#ee8959\",\"#e97c61\"]\n",
    "sns.set_palette(sns.color_palette(colors))\n",
    "mul_palette = sns.color_palette(colors)\n",
    "bin_palette = sns.color_palette(bin_colors)\n",
    "sns.set(rc={'figure.figsize':(10,5)}, font_scale=1.5)\n",
    "sns.set_style({'axes.facecolor':'white', 'grid.color': '.8','grid.linestyle': '--'})"
   ]
  },
  {
   "source": [
    "# Data Selection and Cleaning"
   ],
   "cell_type": "markdown",
   "metadata": {}
  },
  {
   "cell_type": "code",
   "execution_count": null,
   "metadata": {},
   "outputs": [],
   "source": [
    "#data = pd.read_csv(\"../1019415451_T_ONTIME_MARKETING-4.csv\")\n",
    "df01_csv = pd.read_csv(\"../../Downloads/ontime-Jan2019.csv\")\n",
    "if sample:\n",
    "    df01_csv = df01_csv.sample(frac = sample_size, replace=True, random_state=random_state)\n",
    "print (\"Imported {} with {} variables\".format(df01_csv.shape[0],df01_csv.shape[1]))"
   ]
  },
  {
   "cell_type": "code",
   "execution_count": null,
   "metadata": {},
   "outputs": [],
   "source": [
    "df01_csv.columns = map(str.lower, df01_csv.columns)  #Set column names to lowercase\n",
    "df01_csv.head()"
   ]
  },
  {
   "cell_type": "code",
   "execution_count": null,
   "metadata": {},
   "outputs": [],
   "source": [
    "df01_csv.dtypes.sort_values()"
   ]
  },
  {
   "cell_type": "code",
   "execution_count": null,
   "metadata": {},
   "outputs": [],
   "source": [
    "#Review dataframe columns summary for diagnostics and cleaning\n",
    "total_rows_csv = df01_csv.shape[0]\n",
    "pd.DataFrame({ \n",
    "            'unicos':df01_csv.nunique(),\n",
    "            'count': df01_csv.count(),\n",
    "            'missing total': df01_csv.isna().sum(),\n",
    "            'missing %': (df01_csv.isna().sum()/total_rows_csv)*100,\n",
    "            'type':df01_csv.dtypes})"
   ]
  },
  {
   "cell_type": "code",
   "execution_count": null,
   "metadata": {},
   "outputs": [],
   "source": [
    "#Drop non-usable columns\n",
    "df01_csv.drop(['unnamed: 30','cancellation_code','tail_num'],axis='columns', inplace=True)\n",
    "print (\"Imported {} with {} variables\".format(df01_csv.shape[0],df01_csv.shape[1]))"
   ]
  },
  {
   "cell_type": "code",
   "execution_count": null,
   "metadata": {},
   "outputs": [],
   "source": [
    "#Check for null values on cancelled\n",
    "pd.crosstab(df01_csv.dep_delay.isna(), df01_csv.cancelled).sort_values(by=1,ascending=False)"
   ]
  },
  {
   "cell_type": "code",
   "execution_count": null,
   "metadata": {},
   "outputs": [],
   "source": [
    "#Check for null values on cancelled\n",
    "pd.crosstab(df01_csv.dep_delay.isna(), df01_csv.diverted).sort_values(by=1,ascending=False)"
   ]
  },
  {
   "cell_type": "code",
   "execution_count": null,
   "metadata": {},
   "outputs": [],
   "source": [
    "#Most of Null values belong to either cancelled or diverter flights, thus, we will drop those rows from the dataset\n",
    "df_delayed = df01_csv[(df01_csv['cancelled'] == 0) & (df01_csv['diverted']==0)]\n",
    "df_delayed.shape"
   ]
  },
  {
   "cell_type": "code",
   "execution_count": null,
   "metadata": {},
   "outputs": [],
   "source": [
    "#Replace with 0 all NA values on delay \n",
    "df_delayed['carrier_delay'] = df_delayed['carrier_delay'].fillna(0)\n",
    "df_delayed['weather_delay'] = df_delayed['weather_delay'].fillna(0)\n",
    "df_delayed['nas_delay'] = df_delayed['nas_delay'].fillna(0)\n",
    "df_delayed['security_delay'] = df_delayed['security_delay'].fillna(0)\n",
    "df_delayed['late_aircraft_delay'] = df_delayed['late_aircraft_delay'].fillna(0)"
   ]
  },
  {
   "cell_type": "code",
   "execution_count": null,
   "metadata": {},
   "outputs": [],
   "source": []
  },
  {
   "cell_type": "code",
   "execution_count": null,
   "metadata": {},
   "outputs": [],
   "source": [
    "df_delayed.head()"
   ]
  },
  {
   "cell_type": "code",
   "execution_count": null,
   "metadata": {},
   "outputs": [],
   "source": [
    "#Fix data types for categorical columns\n",
    "for col in ['day_of_month','day_of_week','op_unique_carrier','origin','dest','dep_delay_group','dep_time_blk','arr_time_blk' ,'arr_delay_group']:\n",
    "    df_delayed[col] = df_delayed[col].astype('category')"
   ]
  },
  {
   "cell_type": "code",
   "execution_count": null,
   "metadata": {},
   "outputs": [],
   "source": [
    "#Review dataframe columns summary for diagnostics and cleaning\n",
    "total_rows_clean = df_delayed.shape[0]\n",
    "pd.DataFrame({ \n",
    "            'unicos':df_delayed.nunique(),\n",
    "            'count': df_delayed.count(),\n",
    "            'missing total': df_delayed.isna().sum(),\n",
    "            'missing %': (df_delayed.isna().sum()/total_rows_clean)*100,\n",
    "            'type':df_delayed.dtypes})"
   ]
  },
  {
   "cell_type": "code",
   "execution_count": null,
   "metadata": {},
   "outputs": [],
   "source": [
    "#Total droped rows\n",
    "rows_dropped = total_rows_csv - total_rows_clean\n",
    "rows_dropped_proportion = rows_dropped/total_rows_csv\n",
    "print(\"Rows Dropped: {} ({:.2%})\".format(rows_dropped,rows_dropped_proportion))"
   ]
  },
  {
   "source": [
    "# Data Construction\n",
    "Derived Attibutes and Records"
   ],
   "cell_type": "markdown",
   "metadata": {}
  },
  {
   "cell_type": "code",
   "execution_count": null,
   "metadata": {},
   "outputs": [],
   "source": [
    "#Import dataset for bussi airports, contains airport code and Total Enplaned Passengers in 2019\n",
    "top_airports_csv = pd.read_csv(\"datasets/topAirports2.csv\")\n",
    "top_airports_csv['total_enplaned'].describe()"
   ]
  },
  {
   "cell_type": "code",
   "execution_count": null,
   "metadata": {},
   "outputs": [],
   "source": [
    "top_airports_csv.head()"
   ]
  },
  {
   "cell_type": "code",
   "execution_count": null,
   "metadata": {},
   "outputs": [],
   "source": [
    "total_emplaned = top_airports_csv.total_enplaned.sum()\n",
    "top_airports_csv['enplaned_percentage'] = top_airports_csv['total_enplaned']/total_emplaned\n",
    "top_airports_csv.head()"
   ]
  },
  {
   "cell_type": "code",
   "execution_count": null,
   "metadata": {},
   "outputs": [],
   "source": [
    "top10 = top_airports_csv.nlargest(10, 'total_enplaned')\n",
    "top10['airport_code']"
   ]
  },
  {
   "cell_type": "code",
   "execution_count": null,
   "metadata": {},
   "outputs": [],
   "source": [
    "df_delayed['origin_top10'] = df_delayed.origin.isin(top10['airport_code'].tolist())\n",
    "df_delayed['dest_top10'] = df_delayed.dest.isin(top10['airport_code'].tolist())"
   ]
  },
  {
   "cell_type": "code",
   "execution_count": null,
   "metadata": {},
   "outputs": [],
   "source": [
    "top_airports_csv.isna().sum()"
   ]
  },
  {
   "cell_type": "code",
   "execution_count": null,
   "metadata": {},
   "outputs": [],
   "source": [
    "top_airports = top_airports_csv.set_index('airport_code')\n",
    "top_airports.drop(['total_enplaned'],axis='columns', inplace=True) # Drop total_enplaned  column before megre\n",
    "top_airports.head()"
   ]
  },
  {
   "source": [
    "Create new column that contains the percentage of the emplaned passangers in 2019 for origin and destination"
   ],
   "cell_type": "markdown",
   "metadata": {}
  },
  {
   "cell_type": "code",
   "execution_count": null,
   "metadata": {},
   "outputs": [],
   "source": [
    "#merge the airport dataset on destination to create new column with percentage of emplaned per airport\n",
    "df_delayed = df_delayed.merge(top_airports, how='left', left_on='dest', right_index=True)\n",
    " #Rename columns to match the main data frame\n",
    "df_delayed.rename(columns = {'enplaned_percentage':'dest_emplaned'}, inplace = True)\n",
    "#fill with 0 the cells corresponding to airports not in the top airports list \n",
    "df_delayed.dest_emplaned.fillna(0,inplace=True)"
   ]
  },
  {
   "cell_type": "code",
   "execution_count": null,
   "metadata": {},
   "outputs": [],
   "source": [
    "#merge the airport dataset on origin to create new column with percentage of emplaned per airport\n",
    "df_delayed = df_delayed.merge(top_airports, how='left', left_on='origin', right_index=True)\n",
    "#Rename columns to match the main data frame\n",
    "df_delayed.rename(columns = {'enplaned_percentage':'origin_emplaned'}, inplace = True) \n",
    "#fill with 0 the cells corresponding to airports not in the top airports list \n",
    "df_delayed.origin_emplaned.fillna(0,inplace=True) \n",
    "#Print the new data frame\n",
    "df_delayed.head()"
   ]
  },
  {
   "source": [
    "Apply frequency encoding to categorical variables"
   ],
   "cell_type": "markdown",
   "metadata": {}
  },
  {
   "cell_type": "code",
   "execution_count": null,
   "metadata": {},
   "outputs": [],
   "source": [
    "#Frecuqncy encoding Origin\n",
    "origin_freq_encoding = (df_delayed.groupby('origin').size()) / len(df_delayed)\n",
    "df_delayed['origin_freq_encoding'] = df_delayed['origin'].apply(lambda x : origin_freq_encoding[x])"
   ]
  },
  {
   "cell_type": "code",
   "execution_count": null,
   "metadata": {},
   "outputs": [],
   "source": [
    "#Frecuqncy encoding Destination\n",
    "dest_freq_encoding = (df_delayed.groupby('dest').size()) / len(df_delayed)\n",
    "df_delayed['dest_freq_encoding'] = df_delayed['dest'].apply(lambda x : dest_freq_encoding[x])"
   ]
  },
  {
   "cell_type": "code",
   "execution_count": null,
   "metadata": {},
   "outputs": [],
   "source": [
    "#Frecuqncy encoding Departure time block\n",
    "dept_blk_freq = (df_delayed.groupby('dep_time_blk').size()) / len(df_delayed)\n",
    "df_delayed['dept_blk_freq'] = df_delayed['dep_time_blk'].apply(lambda x : dept_blk_freq[x])\n"
   ]
  },
  {
   "cell_type": "code",
   "execution_count": null,
   "metadata": {},
   "outputs": [],
   "source": [
    "#Frecuqncy encoding Departure time block\n",
    "dept_blk_freq = (df_delayed.groupby('arr_time_blk').size()) / len(df_delayed)\n",
    "df_delayed['arr_blk_freq'] = df_delayed['arr_time_blk'].apply(lambda x : dept_blk_freq[x])"
   ]
  },
  {
   "cell_type": "code",
   "execution_count": null,
   "metadata": {},
   "outputs": [],
   "source": [
    "#Frecuqncy encoding Departure time block\n",
    "dept_blk_freq = (df_delayed.groupby('op_unique_carrier').size()) / len(df_delayed)\n",
    "df_delayed['op_carrier_freq'] = df_delayed['op_unique_carrier'].apply(lambda x : dept_blk_freq[x])"
   ]
  },
  {
   "cell_type": "code",
   "execution_count": null,
   "metadata": {},
   "outputs": [],
   "source": [
    "#Frecuqncy encoding day_of_week\n",
    "freq_encoding = (df_delayed.groupby('day_of_week').size()) / len(df_delayed)\n",
    "df_delayed['day_of_week_freq'] = df_delayed['day_of_week'].apply(lambda x : freq_encoding[x-1])"
   ]
  },
  {
   "cell_type": "code",
   "execution_count": null,
   "metadata": {},
   "outputs": [],
   "source": [
    "#Frecuqncy encoding day_of_week\n",
    "freq_encoding = (df_delayed.groupby('day_of_month').size()) / len(df_delayed)\n",
    "df_delayed['day_of_month_freq'] = df_delayed['day_of_month'].apply(lambda x : freq_encoding[x-1])"
   ]
  },
  {
   "cell_type": "code",
   "execution_count": null,
   "metadata": {},
   "outputs": [],
   "source": [
    "df_delayed = df_delayed.drop(['origin','dest','arr_time_blk','op_unique_carrier','cancelled','diverted','arr_delay_group'], axis='columns', inplace=False)"
   ]
  },
  {
   "cell_type": "code",
   "execution_count": null,
   "metadata": {},
   "outputs": [],
   "source": [
    "df_delayed.head()"
   ]
  },
  {
   "source": [
    "# Data Exploration and Visualization"
   ],
   "cell_type": "markdown",
   "metadata": {}
  },
  {
   "cell_type": "code",
   "execution_count": null,
   "metadata": {},
   "outputs": [],
   "source": [
    "ax = sns.histplot(data = top_airports_csv , x ='total_enplaned', kde=True,bins=10)\n",
    "ax.axes.yaxis.set_visible(False)\n",
    "ax.set(xlabel=\"\",title='Airport Enplaned Histogram')"
   ]
  },
  {
   "cell_type": "code",
   "execution_count": null,
   "metadata": {},
   "outputs": [],
   "source": [
    "ax = sns.barplot(data = top_airports_csv , y = 'total_enplaned', x ='airport_code',palette = mul_palette)\n",
    "ax.axes.yaxis.set_visible(False)\n",
    "ax.set(xlabel=\"\",title='Airport Enplaned Histogram')\n",
    "_ = ax.set_xticklabels(ax.get_xticklabels(),rotation=90)"
   ]
  },
  {
   "cell_type": "code",
   "execution_count": null,
   "metadata": {},
   "outputs": [],
   "source": [
    "fig, axes = plt.subplots(1, 2)\n",
    "sns.set_palette(\"bright\")\n",
    "sns.histplot(data=df_delayed, x=\"arr_delay\",kde=True, bins = 100,ax = axes[0])\n",
    "sns.boxplot(data=df_delayed, y=\"arr_delay\",ax=axes[1])\n",
    "axes[0].set(xlabel = \"\", ylabel = \"\",title = 'Arrival delay Histogram',)\n",
    "axes[1].set(xlabel = \"\", ylabel = \"\",title = 'Arrival delay Boxplot',)\n",
    "axes[0].axes.yaxis.set_visible(False)"
   ]
  },
  {
   "cell_type": "code",
   "execution_count": null,
   "metadata": {},
   "outputs": [],
   "source": [
    "ax = sns.scatterplot(x=\"dep_delay\", y=\"arr_delay\", hue = 'arr_del15', data = df_delayed, palette=('YlGn'))\n",
    "ax.set(xlabel = \"Departure Delay\", ylabel = \"Arrival Delay\",title = 'Departure delay vs arrival delay (Minutes)')\n",
    "ax.legend([ 'Delayed','On-Time'])\n",
    "ax.axes.yaxis.set_ticks([])"
   ]
  },
  {
   "cell_type": "code",
   "execution_count": null,
   "metadata": {},
   "outputs": [],
   "source": [
    "df_delayed.dep_delay.describe()"
   ]
  },
  {
   "cell_type": "code",
   "execution_count": null,
   "metadata": {},
   "outputs": [],
   "source": [
    "#Filter any rtows above the 95 percentile\n",
    "df_delayed_outliers = df_delayed[df_delayed.dep_delay<df_delayed.dep_delay.quantile(.90)]\n",
    "#Total droped rows\n",
    "total_rows = df_delayed.shape[0]\n",
    "total_rows_clean = df_delayed_outliers.shape[0]\n",
    "rows_dropped = total_rows - total_rows_clean\n",
    "rows_dropped_proportion = rows_dropped/total_rows\n",
    "print(\"Rows Dropped: {} ({:.2%})\".format(rows_dropped,rows_dropped_proportion))"
   ]
  },
  {
   "cell_type": "code",
   "execution_count": null,
   "metadata": {},
   "outputs": [],
   "source": [
    "ax = sns.scatterplot(x=\"dep_delay\", y=\"arr_delay\", hue = 'arr_del15', data = df_delayed_outliers, palette=('YlGn'))\n",
    "ax.set(xlabel = \"Departure Delay\", ylabel = \"Arrival Delay\",title = 'Departure delay vs arrival delay (Minutes)')\n",
    "ax.legend([ 'Delayed','On-Time'])\n",
    "ax.axes.yaxis.set_ticks([])"
   ]
  },
  {
   "cell_type": "code",
   "execution_count": null,
   "metadata": {},
   "outputs": [],
   "source": [
    "fig, axes = plt.subplots(1, 2)\n",
    "sns.set_palette(\"bright\")\n",
    "sns.histplot(data=df_delayed_outliers, x=\"arr_delay\",kde=True, bins = 100,ax = axes[0])\n",
    "sns.boxplot(data=df_delayed_outliers, y=\"arr_delay\",ax=axes[1])\n",
    "axes[0].set(xlabel = \"\", ylabel = \"\",title = 'Arrival delay Histogram',)\n",
    "axes[1].set(xlabel = \"\", ylabel = \"\",title = 'Arrival delay Boxplot',)\n",
    "axes[0].axes.yaxis.set_visible(False)"
   ]
  },
  {
   "cell_type": "code",
   "execution_count": null,
   "metadata": {},
   "outputs": [],
   "source": [
    "df_delayed_outliers.dep_delay.describe()"
   ]
  },
  {
   "source": [
    "## Calculate correlation coefficient"
   ],
   "cell_type": "markdown",
   "metadata": {}
  },
  {
   "cell_type": "code",
   "execution_count": null,
   "metadata": {},
   "outputs": [],
   "source": [
    "np.corrcoef(df_delayed['dep_delay'], df_delayed['arr_delay'])"
   ]
  },
  {
   "cell_type": "code",
   "execution_count": null,
   "metadata": {},
   "outputs": [],
   "source": [
    "np.corrcoef(df_delayed_outliers['dep_delay'], df_delayed_outliers['arr_delay'])"
   ]
  },
  {
   "cell_type": "code",
   "execution_count": null,
   "metadata": {},
   "outputs": [],
   "source": [
    "df_delayed.dtypes"
   ]
  },
  {
   "cell_type": "code",
   "execution_count": null,
   "metadata": {},
   "outputs": [],
   "source": [
    "num_columns = list(df_delayed.select_dtypes(include=np.number).columns)\n",
    "num_columns.remove(\"arr_delay\")\n",
    "num_columns.remove(\"arr_delay_new\")\n",
    "num_columns.remove(\"arr_del15\")\n",
    "len(num_columns)"
   ]
  },
  {
   "cell_type": "code",
   "execution_count": null,
   "metadata": {},
   "outputs": [],
   "source": [
    "cols = 2\n",
    "rows = 8\n",
    "fig, axs = plt.subplots(ncols=cols,nrows=rows,figsize=(10,16))\n",
    "for i in range (cols):\n",
    "    for j in range(rows):\n",
    "        index = i*rows+j\n",
    "        if index < len(num_columns):\n",
    "            sns.regplot(x=num_columns[i*rows+j], y = \"arr_delay\", data = df_delayed,ax=axs[j,i],scatter_kws={\"color\": \"#2A9D8F\"}, line_kws={\"color\": \"#264653\"})\n",
    "            axs[j,i].set(xlabel = \"\",title = num_columns[i*rows+j])\n",
    "            axs[j,i].axes.yaxis.set_visible(False)\n",
    "            axs[j,i].axes.xaxis.set_visible(False)"
   ]
  },
  {
   "cell_type": "code",
   "execution_count": null,
   "metadata": {},
   "outputs": [],
   "source": [
    "ax = sns.scatterplot(x=\"dep_time_blk\", y=\"arr_delay\", data = df_delayed,palette=('YlGn'))\n",
    "ax.set(xlabel = \"Departure Time Block\", ylabel = \"\",title = 'Departure Time vs Arrival delay (Minutes)')\n",
    "#set labels friendly name\n",
    "_ = ax.set_xticklabels(list(df_delayed.dep_time_blk.unique()),rotation=90)\n",
    "#Hide Y labels\n",
    "#ax.axes.yaxis.set_visible(False)"
   ]
  },
  {
   "cell_type": "code",
   "execution_count": null,
   "metadata": {},
   "outputs": [],
   "source": [
    "ax = sns.countplot(x=\"dep_time_blk\", hue = 'arr_del15', data = df_delayed,palette = bin_palette)\n",
    "ax.set(xlabel = \"\", ylabel = \"\",title = 'Arrival delay vs Departure time block')\n",
    "#set labels friendly name\n",
    "ax.set_xticklabels(list(df_delayed.dep_time_blk.unique()),rotation=90)\n",
    "ax.legend(['On-Time', 'Delayed'])"
   ]
  },
  {
   "cell_type": "code",
   "execution_count": null,
   "metadata": {},
   "outputs": [],
   "source": [
    "#create plot\n",
    "ax = sns.countplot(y = 'day_of_week',  data = df_delayed[df_delayed['arr_del15']>0], palette = mul_palette)\n",
    "#Set Title\n",
    "ax.set(xlabel = \"\",ylabel = \"\",title = 'Delayed Flights per day of the week')\n",
    "#set labels friendly name\n",
    "ax.set_yticklabels(['Monday','Tuesday','Wensday','Thursday','Friday','Saturday','Sunday'])\n",
    "#ax.set_xticklabels(['On Time','Delayed'])\n",
    "#Hide Y labels\n",
    "ax.axes.yaxis.set_visible(True)"
   ]
  },
  {
   "cell_type": "code",
   "execution_count": null,
   "metadata": {},
   "outputs": [],
   "source": [
    "#create plot\n",
    "ax = sns.countplot(x = 'day_of_month' , data = df_delayed[df_delayed['arr_del15']>0],palette = mul_palette)\n",
    "#Set Title\n",
    "ax.set(xlabel = \"\",title = 'Delayed flights per day of the month')\n",
    "#set labels friendly name\n",
    "#ax.set_xticklabels(['On Time','Delayed'])\n",
    "#Hide Y labels\n",
    "ax.axes.yaxis.set_visible(False)"
   ]
  },
  {
   "source": [
    "# Selecting variables for model"
   ],
   "cell_type": "markdown",
   "metadata": {}
  },
  {
   "cell_type": "code",
   "execution_count": null,
   "metadata": {},
   "outputs": [],
   "source": [
    "plt.figure(figsize=(16, 6))\n",
    "# define the mask to set the values in the upper triangle to True\n",
    "mask = np.triu(np.ones_like(df_delayed.corr(), dtype=np.bool))\n",
    "heatmap = sns.heatmap(df_delayed.corr(), mask=mask, vmin=-1, vmax=1, cmap='BrBG')\n",
    "heatmap.set_title('Triangle Correlation Heatmap', fontdict={'fontsize':18}, pad=16);"
   ]
  },
  {
   "cell_type": "code",
   "execution_count": null,
   "metadata": {},
   "outputs": [],
   "source": [
    "\n",
    "fig, ax = plt.subplots(1, 2)\n",
    "fig.set_size_inches(8,10)\n",
    "sns.heatmap(df_delayed.corr()[['arr_delay']].sort_values(by='arr_delay', ascending=False), vmin=-1, vmax=1, annot=True, cmap='BrBG',ax=ax[0],cbar=False)\n",
    "sns.heatmap(df_delayed_outliers.corr()[['arr_delay']].sort_values(by='arr_delay', ascending=False), vmin=-1, vmax=1, annot=True, cmap='BrBG',ax=ax[1],cbar=True)\n",
    "ax[0].set_title('Features Correlation', fontdict={'fontsize':16}, pad=16);\n",
    "ax[1].set_title('Features Correlation (removed Outliers)', fontdict={'fontsize':16}, pad=16);\n",
    "ax[1].axes.yaxis.set_visible(False)"
   ]
  },
  {
   "cell_type": "code",
   "execution_count": null,
   "metadata": {},
   "outputs": [],
   "source": []
  },
  {
   "cell_type": "code",
   "execution_count": null,
   "metadata": {},
   "outputs": [],
   "source": [
    "df_train = df_delayed[['dep_delay','carrier_delay','late_aircraft_delay','dep_del15','nas_delay','weather_delay','arr_delay','arr_delay_new']]\n",
    "df_train_outliers = df_delayed_outliers[['dep_delay','carrier_delay','late_aircraft_delay','dep_del15','nas_delay','weather_delay','arr_delay','arr_delay_new']]"
   ]
  },
  {
   "cell_type": "code",
   "execution_count": null,
   "metadata": {},
   "outputs": [],
   "source": [
    "\n",
    "fig, ax = plt.subplots(1, 2)\n",
    "fig.set_size_inches(8,10)\n",
    "sns.heatmap(df_train.corr()[['arr_delay']].sort_values(by='arr_delay', ascending=False), vmin=-1, vmax=1, annot=True, cmap='BrBG',ax=ax[0],cbar=False)\n",
    "sns.heatmap(df_train_outliers.corr()[['arr_delay']].sort_values(by='arr_delay', ascending=False), vmin=-1, vmax=1, annot=True, cmap='BrBG',ax=ax[1],cbar=True)\n",
    "ax[0].set_title('Features Correlation', fontdict={'fontsize':16}, pad=16);\n",
    "ax[1].set_title('Features Correlation (removed Outliers)', fontdict={'fontsize':16}, pad=16);\n",
    "ax[1].axes.yaxis.set_visible(False)"
   ]
  },
  {
   "cell_type": "code",
   "execution_count": null,
   "metadata": {},
   "outputs": [],
   "source": [
    "fig, ax = plt.subplots(1, 2)\n",
    "sns.regplot(x=\"dep_delay\", y=\"arr_delay\", data=df_train, scatter_kws={\"color\": \"#2A9D8F\"}, line_kws={\"color\": \"#264653\"},ax=ax[0])\n",
    "sns.regplot(x=\"dep_delay\", y=\"arr_delay\", data=df_train_outliers, scatter_kws={\"color\": \"#2A9D8F\"}, line_kws={\"color\": \"#264653\"},ax=ax[1])\n",
    "ax[0].set(xlabel = \"\", ylabel = \"\")\n",
    "ax[1].set(xlabel = \"\", ylabel = \"\")"
   ]
  },
  {
   "cell_type": "code",
   "execution_count": null,
   "metadata": {},
   "outputs": [],
   "source": [
    "df_train.agg(['skew', 'kurtosis']).transpose()"
   ]
  },
  {
   "cell_type": "code",
   "execution_count": null,
   "metadata": {},
   "outputs": [],
   "source": [
    "df_train_outliers.agg(['skew', 'kurtosis']).transpose()"
   ]
  },
  {
   "cell_type": "code",
   "execution_count": null,
   "metadata": {},
   "outputs": [],
   "source": [
    "# Python Square root transformation\n",
    "df_train['arr_sqrt'] = df_train['arr_delay'].apply(np.sqrt)\n",
    "df_train['arr_log'] = np.log(0.001+df_train['arr_delay_new'])\n",
    "\n",
    "df_train_outliers['arr_sqrt'] = df_train_outliers['arr_delay'].apply(np.sqrt)\n"
   ]
  },
  {
   "cell_type": "code",
   "execution_count": null,
   "metadata": {},
   "outputs": [],
   "source": [
    "df_train.head()"
   ]
  },
  {
   "cell_type": "code",
   "execution_count": null,
   "metadata": {},
   "outputs": [],
   "source": [
    "fig, ax = plt.subplots(2, 2, figsize=(12, 8))\n",
    "sns.histplot(data = df_train , x ='arr_delay', kde=True,bins=10,ax=ax[0,0])\n",
    "sns.histplot(data = df_train , x = 'arr_sqrt', kde=True,bins=10,ax=ax[0,1])\n",
    "sns.histplot(data = df_train , x = 'arr_log', kde=True,bins=10,ax=ax[1,0])\n",
    "sns.histplot(data = df_train_outliers , x = 'arr_sqrt', kde=True,bins=10,ax=ax[1,1])\n",
    "ax[0,0].axes.yaxis.set_visible(False)\n",
    "ax[0,0].set(xlabel=\"\",title='Arrival Delay')\n",
    "ax[0,1].axes.yaxis.set_visible(False)\n",
    "ax[0,1].set(xlabel=\"\",title='Arrival Delay Squared')\n",
    "ax[1,0].axes.yaxis.set_visible(False)\n",
    "ax[1,1].axes.yaxis.set_visible(False)\n",
    "ax[1,0].set(xlabel=\"\",title='Arrival Delay Log + 1')\n",
    "ax[1,1].set(xlabel=\"\",title='Arrival Delay Sqrt (outliers)')"
   ]
  },
  {
   "source": [
    "# Model Building"
   ],
   "cell_type": "markdown",
   "metadata": {}
  },
  {
   "cell_type": "code",
   "execution_count": null,
   "metadata": {},
   "outputs": [],
   "source": [
    "import numpy as np\n",
    "from scipy import stats\n",
    "from statistics import mean\n",
    "#Import ML models t be used\n",
    "from sklearn.linear_model import LinearRegression\n",
    "from sklearn.datasets import make_regression\n",
    "from xgboost import XGBRegressor\n",
    "import xgboost as xgb\n",
    "#Libraries for model selection\n",
    "from sklearn.model_selection import train_test_split\n",
    "from sklearn.model_selection import ShuffleSplit\n",
    "from sklearn.model_selection import cross_val_score\n",
    "from sklearn.model_selection import GridSearchCV\n",
    "from sklearn.model_selection import RandomizedSearchCV\n",
    "from sklearn.model_selection import learning_curve\n",
    "from sklearn.model_selection import StratifiedKFold\n",
    "#Libraries for model evaluation\n",
    "from sklearn import metrics\n",
    "from sklearn.metrics import confusion_matrix\n",
    "from sklearn.metrics import plot_confusion_matrix\n",
    "from sklearn.metrics import classification_report\n",
    "from sklearn.metrics import roc_auc_score\n",
    "from sklearn.metrics import accuracy_score\n",
    "from sklearn.metrics import mean_squared_error\n",
    "from sklearn.metrics import mean_absolute_error\n",
    "from sklearn.metrics import r2_score\n",
    "from sklearn.model_selection import cross_validate\n",
    "\n"
   ]
  },
  {
   "cell_type": "code",
   "execution_count": null,
   "metadata": {},
   "outputs": [],
   "source": [
    "# Funtion to run the m odel and calculate the various evaluation metrics and plor the corresponding plots\n",
    "def run_model(model, X_train, y_train, X_test, y_test, verbose=True, desc = 'No name model'):\n",
    "        model.fit(X_train,y_train)  # perform linear regression\n",
    "        y_pred = model.predict(X_test)\n",
    "        r2 =  r2_score(y_test, y_pred)\n",
    "        #adj_r2 = 1 - (1-r2)*(len(y_train)-1)/(len(y_train)-X_train.shape[1]-1)\n",
    "        #adj_r2 = (1 - (1 - r2) * ((X_train.shape[0] - 1) / (X_train.shape[0] - X_train.shape[1] - 1)))\n",
    "        adj_r2 = 1 - (1-r2)*(len(X_train) - 1) / (len(X_train) - (X_train.shape[1] - 1) - 1)\n",
    "        mae = mean_absolute_error(y_test, y_pred)\n",
    "        mse = mean_squared_error(y_test, y_pred)\n",
    "        rmse = np.sqrt(mse)\n",
    "        cross_val_score_mean = mean(cross_val_score(model,X_train,y_train,cv=cv_n_split))\n",
    "        #print('R2 score: {}'.format(r2))\n",
    "        print('R2 score: %.2f' % r2)\n",
    "        print('Adj. R2 score: %.2f' % adj_r2)\n",
    "        print('Mean absolute error: %.2f' % mae  )\n",
    "        print('Mean squared error: %.2f' % mse)\n",
    "        print('Root Mean Squared Error: {}'.format(rmse))\n",
    "        print(\"Avg CrossValid Score  : {:.2%} ({} Folds)\".format(cross_val_score_mean,cv_n_split))\n",
    "        if type(model) == xgb.sklearn.XGBRegressor:\n",
    "            print(\"________\")\n",
    "        else:\n",
    "        # The coefficients\n",
    "            data = {\"variables\": list(X_train.columns),\n",
    "                    \"Coefficients\": model.coef_}\n",
    "            df_coefficients = pd.DataFrame(data)\n",
    "            print('Intercept: ', model.intercept_)          \n",
    "            print('Coefficients:')\n",
    "            print(df_coefficients)\n",
    "        residuals = y_test - y_pred\n",
    "        model_norm_residuals_abs_sqrt=np.sqrt(np.abs(residuals))\n",
    "\n",
    "        model_results[len(model_results)] = {\n",
    "                                            'model'                 :type(model),\n",
    "                                            'description'           :desc,\n",
    "                                            'R2-score'              :r2,\n",
    "                                            'AdjR2-score'           :adj_r2,\n",
    "                                            'MAE'                   :mae,\n",
    "                                            #'MSE'                   :mse,\n",
    "                                            'RMSE'                  :rmse,\n",
    "                                            'crossval_mean'  :cross_val_score_mean\n",
    "                                            }\n",
    "\n",
    "\n",
    "\n",
    "        #x = cross_validate(model,X_train,y_train,cv=cv_n_split)\n",
    "        #print(x['test'])\n",
    "        #mean(cross_validate(model,X_train,y_train,cv=cv_n_split))\n",
    "        #print(\"Avg CrossValid Score  : {:.2%} ({} Folds)\".format(cross_val_score_mean,cv_n_split))\n",
    "        \n",
    "        fig, ax = plt.subplots(2, 2, figsize=(15, 12))\n",
    "        #ax[0] = plt.subplot(221)\n",
    "        stats.probplot(residuals, dist=\"norm\", plot=ax[0,1])\n",
    "        sns.regplot(y_pred, model_norm_residuals_abs_sqrt,\n",
    "                    scatter=True,\n",
    "                    lowess=True,\n",
    "                    color='#2A9D8F',\n",
    "                    line_kws={'color': '#264653', 'lw': 1, 'alpha': 0.8},ax=ax[0,0])\n",
    "        sns.residplot(y_test,y_pred, color='#2A9D8F',lowess=True,\n",
    "                                        line_kws={'color': '#264653', 'lw': 1, 'alpha': 1},ax=ax[1,0])\n",
    "\n",
    "        sns.distplot(y_test, kde=True, norm_hist=True, hist=False,color='#2A9D8F', label='Standard Normal', ax = ax[1,1])                                    \n",
    "        sns.distplot(y_pred, kde=True, norm_hist=True, hist=False,color='#264653', label='Skew Normal $\\\\alpha = 5$',ax=ax[1,1])\n",
    "        ax[1,1].legend(['y_test', 'y_pred'])\n",
    "        #sns.regplot(x=y_test, y=y_pred,ax=ax[1,1],scatter_kws={\"color\": \"#2A9D8F\"}, line_kws={\"color\": \"#264653\"})\n",
    "        ax[0,0].set(xlabel=\"Fitted value\",ylabel='Standarized residuals',title='Scale-Location plot')\n",
    "        ax[0,1].set(xlabel=\"Theoretichal Values\",ylabel='Ordered Values',title='Normal Q-Q Plot')\n",
    "        ax[1,0].set(xlabel=\"Obsevation #\",ylabel='Error',title='Model Residuals')\n",
    "        ax[1,1].set(xlabel=\"Arrival Delay\",ylabel='',title='Comparison of distributions')\n",
    "        #ax[1,1].set(xlabel=\"Arrival Delay\",ylabel='',title='Prediction')\n",
    "\n",
    "def printModelResults(results):\n",
    "    df_results = pd.DataFrame.from_dict(results)\n",
    "    df_results = df_results.T\n",
    "    print(df_results)\n",
    "    heat = df_results[['description','R2-score','AdjR2-score','MAE','RMSE','crossval_mean']]\n",
    "    heat = heat.set_index('description')\n",
    "    heat = heat.sort_values(by='R2-score', ascending=False)\n",
    "    for col in heat.columns:\n",
    "        heat[col] = heat[col].astype(float)\n",
    "    fig, ax = plt.subplots(1)\n",
    "    fig.set_size_inches(15, 8)\n",
    "    fig.suptitle('Model Comparisson')\n",
    "    sns.heatmap(heat,annot=True, ax = ax )"
   ]
  },
  {
   "cell_type": "code",
   "execution_count": null,
   "metadata": {},
   "outputs": [],
   "source": [
    "list(df_train.columns)"
   ]
  },
  {
   "cell_type": "code",
   "execution_count": null,
   "metadata": {},
   "outputs": [],
   "source": [
    "y = df_train.pop('arr_delay')\n",
    "y_sqrt = df_train.pop('arr_sqrt')\n",
    "y_log = df_train.pop('arr_log')\n",
    "y_new = df_train.pop('arr_delay_new')\n",
    "X = df_train\n",
    "print(X.shape)\n",
    "print(y.shape)"
   ]
  },
  {
   "cell_type": "code",
   "execution_count": null,
   "metadata": {},
   "outputs": [],
   "source": [
    "model_results = {} # Create empty list with models results"
   ]
  },
  {
   "cell_type": "code",
   "execution_count": null,
   "metadata": {},
   "outputs": [],
   "source": [
    "#split into raining and test\n",
    "X_train,X_test, y_train,y_test = train_test_split(X , y , random_state = random_state, shuffle = True, test_size = test_train_split)\n",
    "#Create Linear Regression model\n",
    "model_lr1 = LinearRegression()\n",
    "run_model(model_lr1, X_train, y_train, X_test, y_test,desc='LR - y')"
   ]
  },
  {
   "cell_type": "code",
   "execution_count": null,
   "metadata": {},
   "outputs": [],
   "source": [
    "#split into raining and test on delay_new\n",
    "X_train,X_test, y_train,y_test = train_test_split(X , y_new , random_state = random_state, shuffle = True, test_size = test_train_split)\n",
    "#Create Linear Regression model\n",
    "model_lr1 = LinearRegression()\n",
    "run_model(model_lr1, X_train, y_train, X_test, y_test,desc='LR - y_new')"
   ]
  },
  {
   "cell_type": "code",
   "execution_count": null,
   "metadata": {},
   "outputs": [],
   "source": [
    "#split into raining and test on y log\n",
    "X_train,X_test, y_train,y_test = train_test_split(X , y_log , random_state = random_state, shuffle = True, test_size = test_train_split)\n",
    "#Run Linear Regression model\n",
    "run_model(LinearRegression(), X_train, y_train, X_test, y_test,desc='LR - Log(y)')"
   ]
  },
  {
   "cell_type": "code",
   "execution_count": null,
   "metadata": {},
   "outputs": [],
   "source": [
    "# Fill with 0 NA values on y_sqrt\n",
    "y_sqrt = y_sqrt.fillna(0)"
   ]
  },
  {
   "cell_type": "code",
   "execution_count": null,
   "metadata": {},
   "outputs": [],
   "source": [
    "#split into raining and test on y square\n",
    "X_train,X_test, y_train,y_test = train_test_split(X , y_sqrt , random_state = random_state, shuffle = True, test_size = test_train_split)\n",
    "#Create Linear Regression model\n",
    "run_model(LinearRegression(), X_train, y_train, X_test, y_test,desc='LR - Sqrt(y)')"
   ]
  },
  {
   "cell_type": "code",
   "execution_count": null,
   "metadata": {},
   "outputs": [],
   "source": [
    "#split into raining and test\n",
    "X_train,X_test, y_train,y_test = train_test_split(X , y , random_state = random_state, shuffle = True, test_size = test_train_split)\n",
    "#Run xgboost Regression model\n",
    "run_model(xgb.XGBRegressor(objective=\"reg:squarederror\"), X_train, y_train, X_test, y_test, desc='XGBoost - y')"
   ]
  },
  {
   "cell_type": "code",
   "execution_count": null,
   "metadata": {},
   "outputs": [],
   "source": [
    "#split into raining and test\n",
    "X_train,X_test, y_train,y_test = train_test_split(X , y_new , random_state = random_state, shuffle = True, test_size = test_train_split)\n",
    "#Run xgboost Regression model\n",
    "run_model(xgb.XGBRegressor(objective=\"reg:squarederror\"), X_train, y_train, X_test, y_test, desc='XGBoost - y_new')"
   ]
  },
  {
   "cell_type": "code",
   "execution_count": null,
   "metadata": {},
   "outputs": [],
   "source": [
    "printModelResults(model_results)"
   ]
  },
  {
   "source": [
    "## Models on  DF removed outliers"
   ],
   "cell_type": "markdown",
   "metadata": {}
  },
  {
   "cell_type": "code",
   "execution_count": null,
   "metadata": {},
   "outputs": [],
   "source": [
    "y = df_train_outliers.pop('arr_delay')\n",
    "y_new = df_train_outliers.pop('arr_delay_new')\n",
    "y_sqrt = df_train_outliers.pop('arr_sqrt')\n",
    "X = df_train_outliers\n",
    "print(X.shape)\n",
    "print(y.shape)"
   ]
  },
  {
   "cell_type": "code",
   "execution_count": null,
   "metadata": {},
   "outputs": [],
   "source": [
    "#split into raining and test on delay_new\n",
    "X_train,X_test, y_train,y_test = train_test_split(X , y_new , random_state = random_state, shuffle = True, test_size = test_train_split)\n",
    "#Create Linear Regression model\n",
    "model_lr1 = LinearRegression()\n",
    "run_model(model_lr1, X_train, y_train, X_test, y_test,desc='LR - y_new (outliers removed)')"
   ]
  },
  {
   "cell_type": "code",
   "execution_count": null,
   "metadata": {},
   "outputs": [],
   "source": [
    "#split into raining and test\n",
    "X_train,X_test, y_train,y_test = train_test_split(X , y_new , random_state = random_state, shuffle = True, test_size = test_train_split)\n",
    "#Run xgboost Regression model\n",
    "run_model(xgb.XGBRegressor(objective=\"reg:squarederror\"), X_train, y_train, X_test, y_test, desc='XGBoost - y_new (outliers removed)')"
   ]
  },
  {
   "cell_type": "code",
   "execution_count": null,
   "metadata": {},
   "outputs": [],
   "source": [
    "# Fill with 0 NA values on y_sqrt\n",
    "y_sqrt = y_sqrt.fillna(0)\n",
    "#split into raining and test\n",
    "X_train,X_test, y_train,y_test = train_test_split(X , y_sqrt , random_state = random_state, shuffle = True, test_size = test_train_split)\n",
    "#Run xgboost Regression model\n",
    "run_model(xgb.XGBRegressor(objective=\"reg:squarederror\"), X_train, y_train, X_test, y_test, desc='XGBoost - y_sqrt (outliers removed)')"
   ]
  },
  {
   "cell_type": "code",
   "execution_count": null,
   "metadata": {},
   "outputs": [],
   "source": [
    "printModelResults(model_results)"
   ]
  },
  {
   "cell_type": "code",
   "execution_count": null,
   "metadata": {},
   "outputs": [],
   "source": []
  },
  {
   "cell_type": "code",
   "execution_count": null,
   "metadata": {},
   "outputs": [],
   "source": []
  },
  {
   "cell_type": "code",
   "execution_count": null,
   "metadata": {},
   "outputs": [],
   "source": [
    "linear_regressor = LinearRegression()\n",
    "linear_regressor.fit(X_train, y_train )  # perform linear regression\n",
    "y_pred = linear_regressor.predict(X_test)  # make predictions\n",
    "\n",
    "# The coefficients\n",
    "print('Coefficients: ', linear_regressor.coef_)\n",
    "print('Intercept: ', linear_regressor.intercept_)\n",
    "print('R-Squared :', linear_regressor.score(X_test, y_test))\n",
    "\n",
    "# The mean squared error\n",
    "print('Mean squared error: %.2f' % mean_squared_error(y_test, y_pred))\n",
    "# The coefficient of determination: 1 is perfect prediction\n",
    "print('Coefficient of determination: %.2f' % r2_score(y_test, y_pred))\n"
   ]
  },
  {
   "cell_type": "code",
   "execution_count": null,
   "metadata": {},
   "outputs": [],
   "source": [
    "sns.distplot(y_pred, hist = False, color = 'r', label = 'Predicted Values')\n",
    "sns.distplot(y_test, hist = False, color = 'b', label = 'Actual Values')\n",
    "plt.title('Actual vs Predicted Values', fontsize = 16)\n",
    "plt.xlabel('Values', fontsize = 12)\n",
    "plt.ylabel('Frequency', fontsize = 12)\n",
    "plt.legend(loc = 'upper left', fontsize = 13)"
   ]
  },
  {
   "cell_type": "code",
   "execution_count": null,
   "metadata": {},
   "outputs": [],
   "source": [
    "\n",
    "stats.probplot(residuals, dist=\"norm\", plot=plt)\n",
    "plt.title(\"Normal Q-Q Plot\")"
   ]
  },
  {
   "cell_type": "code",
   "execution_count": null,
   "metadata": {},
   "outputs": [],
   "source": [
    "model_norm_residuals_abs_sqrt=np.sqrt(np.abs(residuals))\n",
    "sns.regplot(y_pred, model_norm_residuals_abs_sqrt,\n",
    "              scatter=True,\n",
    "              lowess=True,\n",
    "              line_kws={'color': 'red', 'lw': 1, 'alpha': 0.8})\n",
    "plt.ylabel(\"Standarized residuals\")\n",
    "plt.xlabel(\"Fitted value\")"
   ]
  },
  {
   "cell_type": "code",
   "execution_count": null,
   "metadata": {},
   "outputs": [],
   "source": [
    "fig, ax = plt.subplots(2, 2, figsize=(15, 12))\n",
    "#ax[0] = plt.subplot(221)\n",
    "stats.probplot(residuals, dist=\"norm\", plot=ax[0,1])\n",
    "sns.regplot(y_pred, model_norm_residuals_abs_sqrt,\n",
    "              scatter=True,\n",
    "              lowess=True,\n",
    "              color='#2A9D8F',\n",
    "              line_kws={'color': '#264653', 'lw': 1, 'alpha': 0.8},ax=ax[0,0])\n",
    "sns.residplot(y_test,y_pred, color='#2A9D8F',lowess=True,\n",
    "                                  line_kws={'color': '#264653', 'lw': 1, 'alpha': 1},ax=ax[1,0])\n",
    "\n",
    "sns.distplot(y_test, kde=False, norm_hist=True, color='#2A9D8F', label='Standard Normal', ax = ax[1,1])                                    \n",
    "sns.distplot(y_pred, kde=False, norm_hist=True, color='#264653', label='Skew Normal $\\\\alpha = 5$',ax=ax[1,1])\n",
    "ax[0,0].set(xlabel=\"Fitted value\",ylabel='Standarized residuals',title='Scale-Location plot')\n",
    "ax[0,1].set(xlabel=\"Theoretichal Values\",ylabel='Ordered Values',title='Normal Q-Q Plot')\n",
    "ax[1,0].set(xlabel=\"Obsevation #\",ylabel='Error',title='Model Residuals')\n",
    "ax[1,1].set(xlabel=\"Arrival Delay\",ylabel='',title='Comparison of distributions')"
   ]
  },
  {
   "cell_type": "code",
   "execution_count": null,
   "metadata": {},
   "outputs": [],
   "source": [
    "sns.regplot(x=y_test, y=y_pred);"
   ]
  },
  {
   "cell_type": "code",
   "execution_count": null,
   "metadata": {},
   "outputs": [],
   "source": []
  }
 ]
}